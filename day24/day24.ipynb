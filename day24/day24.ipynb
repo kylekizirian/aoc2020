{
 "cells": [
  {
   "cell_type": "code",
   "execution_count": 1,
   "metadata": {},
   "outputs": [],
   "source": [
    "with open(\"input.txt\") as f:\n",
    "    tiles = [\n",
    "        line.strip() for line in f.readlines()\n",
    "    ]"
   ]
  },
  {
   "cell_type": "markdown",
   "metadata": {},
   "source": [
    "## part1"
   ]
  },
  {
   "cell_type": "code",
   "execution_count": 2,
   "metadata": {},
   "outputs": [
    {
     "data": {
      "text/plain": [
       "375"
      ]
     },
     "execution_count": 2,
     "metadata": {},
     "output_type": "execute_result"
    }
   ],
   "source": [
    "import re\n",
    "\n",
    "step_map = {\n",
    "    \"e\": (1, -1, 0),\n",
    "    \"se\": (0, -1, 1),\n",
    "    \"sw\": (-1, 0, 1),\n",
    "    \"w\": (-1, 1, 0),\n",
    "    \"nw\": (0, 1, -1),\n",
    "    \"ne\": (1, 0, -1),\n",
    "}\n",
    "\n",
    "black_tiles = set()\n",
    "\n",
    "for tile in tiles:\n",
    "    pos = (0, 0, 0)\n",
    "    for step in re.findall(\"(e|se|sw|w|nw|ne)\", tile):\n",
    "        x, y, z = pos\n",
    "        dx, dy, dz = step_map[step]\n",
    "        pos = (x + dx, y + dy, z + dz)\n",
    "\n",
    "    if pos in black_tiles:\n",
    "        black_tiles.remove(pos)\n",
    "    else:\n",
    "        black_tiles.add(pos)\n",
    "\n",
    "len(black_tiles)"
   ]
  },
  {
   "cell_type": "markdown",
   "metadata": {},
   "source": [
    "## part2"
   ]
  },
  {
   "cell_type": "code",
   "execution_count": 3,
   "metadata": {},
   "outputs": [
    {
     "data": {
      "text/plain": [
       "3937"
      ]
     },
     "execution_count": 3,
     "metadata": {},
     "output_type": "execute_result"
    }
   ],
   "source": [
    "from itertools import product\n",
    "from copy import copy\n",
    "\n",
    "def neighbors(hex_loc):\n",
    "    x, y, z = hex_loc\n",
    "    return (\n",
    "        (x+1, y, z-1),\n",
    "        (x+1, y-1, z),\n",
    "        (x, y-1, z+1),\n",
    "        (x-1, y, z+1),\n",
    "        (x-1, y+1, z),\n",
    "        (x, y+1, z-1),\n",
    "    )\n",
    "\n",
    "for day in range(100):\n",
    "    cells_to_check = set()\n",
    "    for cell in black_tiles:\n",
    "        cells_to_check.add(cell)\n",
    "        for neighbor in neighbors(cell):\n",
    "            cells_to_check.add(neighbor)\n",
    "\n",
    "    next_black_tiles = set()\n",
    "\n",
    "    for loc in cells_to_check:\n",
    "        num_neighbors = sum(\n",
    "            neighbor in black_tiles\n",
    "            for neighbor in neighbors(loc)\n",
    "        )\n",
    "\n",
    "        if loc in black_tiles:\n",
    "            if 0 < num_neighbors <= 2:\n",
    "                next_black_tiles.add(loc)\n",
    "        else:\n",
    "            if num_neighbors == 2:\n",
    "                next_black_tiles.add(loc)\n",
    "\n",
    "    black_tiles = next_black_tiles\n",
    "\n",
    "len(black_tiles)"
   ]
  }
 ],
 "metadata": {
  "kernelspec": {
   "display_name": "Python 3.7.5 64-bit ('math': conda)",
   "language": "python",
   "name": "python37564bitmathconda3c1422069eaf4c3f9b49eaa87ff9aec1"
  },
  "language_info": {
   "codemirror_mode": {
    "name": "ipython",
    "version": 3
   },
   "file_extension": ".py",
   "mimetype": "text/x-python",
   "name": "python",
   "nbconvert_exporter": "python",
   "pygments_lexer": "ipython3",
   "version": "3.7.7"
  }
 },
 "nbformat": 4,
 "nbformat_minor": 4
}

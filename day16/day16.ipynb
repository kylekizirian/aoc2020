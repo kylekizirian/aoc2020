{
 "cells": [
  {
   "cell_type": "code",
   "execution_count": 1,
   "metadata": {},
   "outputs": [],
   "source": [
    "with open(\"input.txt\") as f:\n",
    "    lines = [\n",
    "        line.strip() for line in f.readlines()\n",
    "    ]"
   ]
  },
  {
   "cell_type": "code",
   "execution_count": 2,
   "metadata": {},
   "outputs": [],
   "source": [
    "from collections import namedtuple\n",
    "\n",
    "class Range:\n",
    "\n",
    "    def __init__(self, lower: int, upper: int):\n",
    "        self.lower = lower\n",
    "        self.upper = upper\n",
    "\n",
    "    def __contains__(self, val: int):\n",
    "        return self.lower <= val <= self.upper\n",
    "\n",
    "class Rule:\n",
    "\n",
    "    def __init__(self, name: str, range1: Range, range2: Range):\n",
    "        self.name = name\n",
    "        self.range1 = range1\n",
    "        self.range2 = range2\n",
    "\n",
    "    def __contains__(self, val: int):\n",
    "        return val in self.range1 or val in self.range2\n",
    "\n",
    "Ticket = namedtuple(\"Ticket\", [\"values\"])"
   ]
  },
  {
   "cell_type": "code",
   "execution_count": 3,
   "metadata": {},
   "outputs": [],
   "source": [
    "import re\n",
    "\n",
    "rule_regex = \"((?:\\w|\\s)+): (\\d+)-(\\d+) or (\\d+)-(\\d+)\"\n",
    "ticket_regex = \"(\\d+,)+(\\d+)\"\n",
    "\n",
    "all_rules = []\n",
    "tickets = []\n",
    "\n",
    "for line in lines:\n",
    "    if match := re.fullmatch(rule_regex, line):\n",
    "        rule_name = match.group(1)\n",
    "        lower1, upper1 = int(match.group(2)), int(match.group(3))\n",
    "        lower2, upper2 = int(match.group(4)), int(match.group(5))\n",
    "\n",
    "        range1 = Range(lower1, upper1)\n",
    "        range2 = Range(lower2, upper2)\n",
    "\n",
    "        rule = Rule(rule_name, range1, range2)\n",
    "        all_rules.append(rule)\n",
    "    elif re.fullmatch(ticket_regex, line):\n",
    "        values = line.split(\",\")\n",
    "        values = list(map(int, values))\n",
    "        tickets.append(Ticket(values))"
   ]
  },
  {
   "cell_type": "markdown",
   "metadata": {},
   "source": [
    "## part1"
   ]
  },
  {
   "cell_type": "code",
   "execution_count": 4,
   "metadata": {},
   "outputs": [
    {
     "data": {
      "text/plain": [
       "30869"
      ]
     },
     "execution_count": 4,
     "metadata": {},
     "output_type": "execute_result"
    }
   ],
   "source": [
    "error_rate = 0\n",
    "\n",
    "for ticket in tickets:\n",
    "    for value in ticket.values:\n",
    "        if not any(value in rule for rule in all_rules):\n",
    "            error_rate += value\n",
    "\n",
    "error_rate"
   ]
  },
  {
   "cell_type": "markdown",
   "metadata": {},
   "source": [
    "## part2"
   ]
  },
  {
   "cell_type": "code",
   "execution_count": 5,
   "metadata": {},
   "outputs": [],
   "source": [
    "# to be a valid ticket, every value must match\n",
    "# at least one rule\n",
    "valid_tickets = [\n",
    "    ticket\n",
    "    for ticket in tickets\n",
    "    if all(\n",
    "        any(value in rule for rule in all_rules)\n",
    "        for value in ticket.values\n",
    "    )\n",
    "]"
   ]
  },
  {
   "cell_type": "markdown",
   "metadata": {},
   "source": [
    "Start by assuming that every rule could be valid\n",
    "for every index. Then, go through all of the tickets\n",
    "and all of the values in each ticket. When we come\n",
    "across a value that doesn't pass a particular rule,\n",
    "then it's removed as a possibility."
   ]
  },
  {
   "cell_type": "code",
   "execution_count": 6,
   "metadata": {},
   "outputs": [],
   "source": [
    "from copy import copy\n",
    "from typing import List\n",
    "\n",
    "rules_by_index: List[List[Rule]] = [copy(all_rules) for _ in all_rules]\n",
    "\n",
    "for ticket in valid_tickets:\n",
    "    for index, value in enumerate(ticket.values):\n",
    "        rules_by_index[index] = [\n",
    "            rule for rule in rules_by_index[index] if value in rule\n",
    "        ]"
   ]
  },
  {
   "cell_type": "markdown",
   "metadata": {},
   "source": [
    "After this first pass, we're left with a list that contains a\n",
    "list of rules that could fit at each index. \n",
    "\n",
    "Now, we have to fit a specific rule to each index. If there is\n",
    "only possible rule at a given index then we have our answer for\n",
    "that index. Once we have our answer for an index, we remove that\n",
    "rule as a possibility from every other index. We repeat this\n",
    "process until we've matched a rule to every index."
   ]
  },
  {
   "cell_type": "code",
   "execution_count": 7,
   "metadata": {},
   "outputs": [],
   "source": [
    "rule_by_index: List[Rule] = [None] * len(rules_by_index)\n",
    "\n",
    "def remove_from_possible_rules(\n",
    "    rules_by_index: List[List[Rule]],\n",
    "    rule_to_remove: Rule\n",
    ") -> List[List[Rule]]:\n",
    "    \"\"\"Given a list of possible rules at each index and\n",
    "    a specific rule, remove the rule as a possibility\n",
    "    from each index.\n",
    "    \"\"\"\n",
    "    return [\n",
    "        [rule for rule in rules if rule != rule_to_remove]\n",
    "        for rules in rules_by_index\n",
    "    ]\n",
    "\n",
    "\n",
    "while not all(rule_by_index):\n",
    "\n",
    "    for index in range(len(rules_by_index)):\n",
    "        rules = rules_by_index[index]\n",
    "\n",
    "        # If there is only one possible rule at a given\n",
    "        # index then it must fit here. Take the rule and\n",
    "        # insert it as the answer in the rule_by_index\n",
    "        # list. Then, remove the rule as a possiblity\n",
    "        # from all other indices.\n",
    "        if len(rules) == 1:\n",
    "            rule = rules[0]\n",
    "            rule_by_index[index] = rule\n",
    "            rules_by_index = remove_from_possible_rules(\n",
    "                rules_by_index, rule\n",
    "            )"
   ]
  },
  {
   "cell_type": "code",
   "execution_count": 8,
   "metadata": {},
   "outputs": [
    {
     "data": {
      "text/plain": [
       "4381476149273"
      ]
     },
     "execution_count": 8,
     "metadata": {},
     "output_type": "execute_result"
    }
   ],
   "source": [
    "# find the product of values in my ticket for rules\n",
    "# that start with \"departure\"\n",
    "my_ticket = tickets[0]\n",
    "\n",
    "answer = 1\n",
    "\n",
    "for val, rule in zip(my_ticket.values, rule_by_index):\n",
    "    if rule.name.startswith(\"departure\"):\n",
    "        answer *= val\n",
    "\n",
    "answer"
   ]
  }
 ],
 "metadata": {
  "kernelspec": {
   "display_name": "Python 3.8",
   "language": "python",
   "name": "python38"
  },
  "language_info": {
   "codemirror_mode": {
    "name": "ipython",
    "version": 3
   },
   "file_extension": ".py",
   "mimetype": "text/x-python",
   "name": "python",
   "nbconvert_exporter": "python",
   "pygments_lexer": "ipython3",
   "version": "3.8.5"
  }
 },
 "nbformat": 4,
 "nbformat_minor": 4
}

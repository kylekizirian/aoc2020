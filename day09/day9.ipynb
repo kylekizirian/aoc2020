{
 "cells": [
  {
   "cell_type": "code",
   "execution_count": 1,
   "metadata": {},
   "outputs": [],
   "source": [
    "with open(\"input.txt\") as f:\n",
    "    nums = list(map(int, f.readlines()))"
   ]
  },
  {
   "cell_type": "markdown",
   "metadata": {},
   "source": [
    "## part1\n",
    "\n",
    "We want to find a number which has no 2sum\n",
    "solution in the previous 25 numbers. We run\n",
    "the 2sum algorithm over previous 25 numbers\n",
    "and continuously update the set of previous\n",
    "25 numbers while iterating through."
   ]
  },
  {
   "cell_type": "code",
   "execution_count": 2,
   "metadata": {},
   "outputs": [
    {
     "data": {
      "text/plain": [
       "466456641"
      ]
     },
     "execution_count": 2,
     "metadata": {},
     "output_type": "execute_result"
    }
   ],
   "source": [
    "preamble = set(nums[:25])\n",
    "\n",
    "for index, num in enumerate(nums[25:]):\n",
    "    for pre_num in preamble:\n",
    "        if num - pre_num in preamble:\n",
    "            break\n",
    "    else:\n",
    "        # The else clause runs if we didn't\n",
    "        # break in the for loop, i.e. we didn't\n",
    "        # find two numbers which sum to the\n",
    "        # current num so we've found our solution.\n",
    "        answer = num\n",
    "        break\n",
    "\n",
    "    preamble.remove(nums[index])\n",
    "    preamble.add(num)\n",
    "\n",
    "answer"
   ]
  },
  {
   "cell_type": "markdown",
   "metadata": {},
   "source": [
    "## part2\n",
    "\n",
    "Looking for a range of numbers that sums to the\n",
    "solution from part 1. We keep a sliding window\n",
    "that we initialize to the first element. If the\n",
    "sum of our sliding window is less than the target\n",
    "sum, we move the end of the sliding window to the\n",
    "right 1 and add the value of the new element. If\n",
    "the window sum is greater than the target sum, we\n",
    "move the start of the window to the right 1 and\n",
    "subtract off the value of the element that's being\n",
    "removed."
   ]
  },
  {
   "cell_type": "code",
   "execution_count": 3,
   "metadata": {},
   "outputs": [
    {
     "data": {
      "text/plain": [
       "55732936"
      ]
     },
     "execution_count": 3,
     "metadata": {},
     "output_type": "execute_result"
    }
   ],
   "source": [
    "start, end = 0, 1\n",
    "found = False\n",
    "window_sum = nums[0]\n",
    "\n",
    "while not found:\n",
    "    if window_sum == answer:\n",
    "        found = True\n",
    "    elif window_sum < answer:\n",
    "        window_sum += nums[end]\n",
    "        end += 1\n",
    "    else:\n",
    "        window_sum -= nums[start]\n",
    "        start += 1\n",
    "\n",
    "min(nums[start:end]) + max(nums[start:end])"
   ]
  }
 ],
 "metadata": {
  "kernelspec": {
   "display_name": "Python 3.7.5 64-bit ('math': conda)",
   "language": "python",
   "name": "python37564bitmathconda3c1422069eaf4c3f9b49eaa87ff9aec1"
  },
  "language_info": {
   "codemirror_mode": {
    "name": "ipython",
    "version": 3
   },
   "file_extension": ".py",
   "mimetype": "text/x-python",
   "name": "python",
   "nbconvert_exporter": "python",
   "pygments_lexer": "ipython3",
   "version": "3.7.7"
  }
 },
 "nbformat": 4,
 "nbformat_minor": 4
}

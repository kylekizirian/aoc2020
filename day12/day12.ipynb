{
 "cells": [
  {
   "cell_type": "code",
   "execution_count": 1,
   "metadata": {},
   "outputs": [],
   "source": [
    "with open(\"input.txt\") as f:\n",
    "    instructions = [line.strip() for line in f.readlines()]"
   ]
  },
  {
   "cell_type": "code",
   "execution_count": 2,
   "metadata": {},
   "outputs": [],
   "source": [
    "from typing import Tuple\n",
    "\n",
    "Location = Tuple[int, int]"
   ]
  },
  {
   "cell_type": "markdown",
   "metadata": {},
   "source": [
    "## part1"
   ]
  },
  {
   "cell_type": "code",
   "execution_count": 3,
   "metadata": {},
   "outputs": [],
   "source": [
    "def move(\n",
    "    position: Location, direction: str, amount: int\n",
    ") -> Location:\n",
    "    \"\"\"Move the ship's location using given amount\n",
    "    and direction and return the ship's new location.\n",
    "    \"\"\"\n",
    "    east, north = position\n",
    "\n",
    "    new_pos = {\n",
    "        \"N\": (east, north + amount),\n",
    "        \"S\": (east, north - amount),\n",
    "        \"E\": (east + amount, north),\n",
    "        \"W\": (east - amount, north),\n",
    "    }\n",
    "\n",
    "    return new_pos[direction]\n",
    "\n",
    "def rotate_ship(\n",
    "    heading: str, rotation: str, degrees: int\n",
    ") -> str:\n",
    "    \"\"\"Rotate the ship's heading by given degrees\n",
    "    and return its new heading.\n",
    "    \"\"\"\n",
    "    # Use circular indexing to find new heading.\n",
    "    # If current heading is \"S\" then we're at index\n",
    "    # 1 in the directions list. If we rotate\n",
    "    # by L180, then we find the new index with\n",
    "    # index = 1 - int(180 / 90)  # -1\n",
    "    # index %= len(directions)  # 3\n",
    "    # The new index is 3 which correctly gives us\n",
    "    # our new heading as \"N\".\n",
    "    directions = [\"E\", \"S\", \"W\", \"N\"]\n",
    "    index = directions.index(heading)\n",
    "\n",
    "    if rotation == \"L\":\n",
    "        index -= int(degrees / 90)\n",
    "    else:\n",
    "        index += int(degrees / 90)\n",
    "\n",
    "    index %= len(directions)\n",
    "    return directions[index]"
   ]
  },
  {
   "cell_type": "code",
   "execution_count": 4,
   "metadata": {},
   "outputs": [
    {
     "data": {
      "text/plain": [
       "521"
      ]
     },
     "execution_count": 4,
     "metadata": {},
     "output_type": "execute_result"
    }
   ],
   "source": [
    "heading = \"E\"\n",
    "ship_pos = (0, 0)\n",
    "\n",
    "for instruction in instructions:\n",
    "    action, amount = instruction[0], int(instruction[1:])\n",
    "\n",
    "    if action in {\"N\", \"S\", \"E\", \"W\"}:\n",
    "        ship_pos = move(ship_pos, action, amount)\n",
    "    elif action == \"F\":\n",
    "        ship_pos = move(ship_pos, heading, amount)\n",
    "    else:\n",
    "        heading = rotate_ship(heading, action, amount)\n",
    "\n",
    "abs(ship_pos[0]) + abs(ship_pos[1])"
   ]
  },
  {
   "cell_type": "markdown",
   "metadata": {},
   "source": [
    "## part2"
   ]
  },
  {
   "cell_type": "code",
   "execution_count": 5,
   "metadata": {},
   "outputs": [],
   "source": [
    "def move_to_waypoint(\n",
    "    ship_pos: Location, waypoint: Location, amount: int\n",
    ") -> Location:\n",
    "    \"\"\"Moves ship's position towards the waypoint\n",
    "    by amount times.\n",
    "    \"\"\"\n",
    "    ship_east, ship_north = ship_pos\n",
    "    waypoint_east, waypoint_north = waypoint\n",
    "\n",
    "    ship_east += waypoint_east * amount\n",
    "    ship_north += waypoint_north * amount\n",
    "\n",
    "    return (ship_east, ship_north)\n",
    "\n",
    "def rotate_waypoint(\n",
    "    waypoint: Location, action: str, amount: int\n",
    ") -> Location:\n",
    "    \"\"\"Rotate the waypoint around the ship\"\"\"\n",
    "    east, north = waypoint\n",
    "    if action == \"R\":\n",
    "        if amount == 90:\n",
    "            return (north, -east)\n",
    "        elif amount == 180:\n",
    "            return (-east, -north)\n",
    "        elif amount == 270:\n",
    "            return (-north, east)\n",
    "    else:\n",
    "        # Rotating left by n degrees is the same \n",
    "        # as rotating right by 360-n degrees.\n",
    "        # I.e. L90 == R270\n",
    "        return rotate_waypoint(waypoint, \"R\", 360-amount)"
   ]
  },
  {
   "cell_type": "code",
   "execution_count": 6,
   "metadata": {},
   "outputs": [
    {
     "data": {
      "text/plain": [
       "22848"
      ]
     },
     "execution_count": 6,
     "metadata": {},
     "output_type": "execute_result"
    }
   ],
   "source": [
    "ship_pos = (0, 0)\n",
    "waypoint = (10, 1)\n",
    "\n",
    "for instruction in instructions:\n",
    "    action, amount = instruction[0], int(instruction[1:])\n",
    "\n",
    "    if action in {\"N\", \"S\", \"E\", \"W\"}:\n",
    "        waypoint = move(waypoint, action, amount)\n",
    "    elif action == \"F\":\n",
    "        ship_pos = move_to_waypoint(ship_pos, waypoint, amount)\n",
    "    else:\n",
    "        waypoint = rotate_waypoint(waypoint, action, amount)\n",
    "\n",
    "abs(ship_pos[0]) + abs(ship_pos[1])"
   ]
  }
 ],
 "metadata": {
  "kernelspec": {
   "display_name": "Python 3.7.5 64-bit ('math': conda)",
   "language": "python",
   "name": "python37564bitmathconda3c1422069eaf4c3f9b49eaa87ff9aec1"
  },
  "language_info": {
   "codemirror_mode": {
    "name": "ipython",
    "version": 3
   },
   "file_extension": ".py",
   "mimetype": "text/x-python",
   "name": "python",
   "nbconvert_exporter": "python",
   "pygments_lexer": "ipython3",
   "version": "3.7.7"
  }
 },
 "nbformat": 4,
 "nbformat_minor": 4
}

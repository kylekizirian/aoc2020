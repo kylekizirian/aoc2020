{
 "cells": [
  {
   "cell_type": "code",
   "execution_count": 1,
   "metadata": {},
   "outputs": [],
   "source": [
    "with open(\"input.txt\") as f:\n",
    "    lines = [\n",
    "        line.strip() for line in f.readlines() if line.strip()\n",
    "    ]"
   ]
  },
  {
   "cell_type": "code",
   "execution_count": 2,
   "metadata": {},
   "outputs": [],
   "source": [
    "def rotate_clockwise(grid):\n",
    "    \"\"\"Rotates a 2D list clockwise\"\"\"\n",
    "    return list(list(row) for row in zip(*grid[::-1]))\n",
    "\n",
    "def rotate_string_grid_clockwise(grid):\n",
    "    \"\"\"Rotates a list of strings clockwise\"\"\"\n",
    "    return [\"\".join(line) for line in rotate_clockwise(grid)]\n",
    "\n",
    "def flip_horizontal(grid):\n",
    "    \"\"\"Flipes a 2D list along the vertical axis\"\"\"\n",
    "    return [line[::-1] for line in grid]\n",
    "\n",
    "def flip_vertical(grid):\n",
    "    \"\"\"Flipes a 2D list along the horizontal axis\"\"\"\n",
    "    return list(reversed(grid))"
   ]
  },
  {
   "cell_type": "code",
   "execution_count": 3,
   "metadata": {},
   "outputs": [],
   "source": [
    "from typing import List, Set\n",
    "\n",
    "class Tile:\n",
    "\n",
    "    def __init__(self, tile_id: int, grid: List[List[str]]):\n",
    "        self.tile_id = tile_id\n",
    "        self.grid = grid\n",
    "        self._compute_lrtb()\n",
    "        self.all_sides = {self.top, self.bottom, self.left, self.right}\n",
    "        self.flip_horizontal()\n",
    "        self.all_sides |= {self.top, self.bottom}\n",
    "        self.flip_vertical()\n",
    "        self.all_sides |= {self.left, self.right}\n",
    "        self.flip_horizontal()\n",
    "        self.flip_vertical()\n",
    "\n",
    "    def _compute_lrtb(self):\n",
    "        \"\"\"Sets the left, right, top, bottom based off of self.grid\"\"\"\n",
    "        self.top = \"\".join(self.grid[0])\n",
    "        self.bottom = \"\".join(self.grid[-1])\n",
    "        self.left = \"\".join([line[0] for line in self.grid])\n",
    "        self.right = \"\".join([line[-1] for line in self.grid])\n",
    "\n",
    "    def rotate_clockwise(self):\n",
    "        \"\"\"Rotates the tile clockwise\"\"\"\n",
    "        self.grid = rotate_string_grid_clockwise(self.grid)\n",
    "        self._compute_lrtb()\n",
    "\n",
    "    def flip_horizontal(self):\n",
    "        \"\"\"Flips the tile along the vertical axis (i.e. left to right)\"\"\"\n",
    "        self.grid = flip_horizontal(self.grid)\n",
    "        self._compute_lrtb()\n",
    "\n",
    "    def flip_vertical(self):\n",
    "        \"\"\"Flips along the horizontal axis\"\"\"\n",
    "        self.grid = flip_vertical(self.grid)\n",
    "        self._compute_lrtb()\n",
    "\n",
    "    def any_matches(self, other_tile) -> bool:\n",
    "        \"\"\"Returns whether any configuration allows two tiles to line up\"\"\"\n",
    "        return bool(\n",
    "            self.all_sides.intersection(other_tile.all_sides)\n",
    "        )\n",
    "\n",
    "    def current_sides(self) -> Set[str]:\n",
    "        \"\"\"Return a set of the current sides\"\"\"\n",
    "        return {self.left, self.top, self.right, self.bottom}\n",
    "\n",
    "    def __eq__(self, other_tile):\n",
    "        return self.tile_id == other_tile.tile_id\n",
    "\n",
    "    def __repr__(self):\n",
    "        return str(self.tile_id) + \"\\n\" + \"\\n\".join(self.grid)"
   ]
  },
  {
   "cell_type": "code",
   "execution_count": 4,
   "metadata": {},
   "outputs": [],
   "source": [
    "from collections import defaultdict\n",
    "import re\n",
    "\n",
    "id_to_tile = defaultdict(list)\n",
    "last_tile = None\n",
    "\n",
    "for line in lines:\n",
    "\n",
    "    if match := re.fullmatch(\"Tile (\\d+):\", line):\n",
    "        last_tile = int(match.group(1))\n",
    "    else:\n",
    "        id_to_tile[last_tile].append(line)\n",
    "\n",
    "id_to_tile = {\n",
    "    tile_id: Tile(tile_id, grid) for tile_id, grid in id_to_tile.items()\n",
    "}"
   ]
  },
  {
   "cell_type": "markdown",
   "metadata": {},
   "source": [
    "## part1\n",
    "\n",
    "We take a bit of a shortcut here. For each tile, we find all other tiles\n",
    "that could possibly be a neighbor (must have two sides that could align).\n",
    "If a tile only has 2 possible neighbors, then it must be a corner tile."
   ]
  },
  {
   "cell_type": "code",
   "execution_count": 5,
   "metadata": {},
   "outputs": [
    {
     "data": {
      "text/plain": [
       "19955159604613"
      ]
     },
     "execution_count": 5,
     "metadata": {},
     "output_type": "execute_result"
    }
   ],
   "source": [
    "from functools import reduce\n",
    "from operator import mul\n",
    "\n",
    "tile_id_to_neighbors = {\n",
    "    tile_id: set(\n",
    "        other_tile.tile_id\n",
    "        for other_tile in id_to_tile.values()\n",
    "        if tile.any_matches(other_tile) and tile != other_tile\n",
    "    )\n",
    "    for tile_id, tile in id_to_tile.items()\n",
    "}\n",
    "\n",
    "corner_tiles = set(\n",
    "    tile_id\n",
    "    for tile_id, neighbors in tile_id_to_neighbors.items()\n",
    "    if len(neighbors) == 2\n",
    ")\n",
    "side_tiles = set(\n",
    "    tile_id\n",
    "    for tile_id, neighbors in tile_id_to_neighbors.items()\n",
    "    if len(neighbors) == 3\n",
    ")\n",
    "interior_tiles = set(\n",
    "    tile_id\n",
    "    for tile_id, neighbors in tile_id_to_neighbors.items()\n",
    "    if len(neighbors) == 4\n",
    ")\n",
    "\n",
    "reduce(mul, (tile_id for tile_id in corner_tiles))"
   ]
  },
  {
   "cell_type": "markdown",
   "metadata": {},
   "source": [
    "## part2\n",
    "\n",
    "We start by picking a corner tile to begin our grid. We then have to orient\n",
    "the corner tile and its two neighbors such that one borders it to the right\n",
    "and one to the bottom.\n",
    "\n",
    "From there, we iterate through the rest of the positions in the grid. If we\n",
    "are on a side position, then we simply need a tile oriented to match its\n",
    "neighbors."
   ]
  },
  {
   "cell_type": "code",
   "execution_count": 6,
   "metadata": {},
   "outputs": [],
   "source": [
    "DIMENSIONS = 12\n",
    "\n",
    "grid = [[None] * DIMENSIONS for _ in range(DIMENSIONS)]\n",
    "\n",
    "available_tile_ids = set(\n",
    "    tile_id for tile_id in corner_tiles | side_tiles | interior_tiles\n",
    ")\n",
    "\n",
    "upper_left_tile = list(corner_tiles)[0]\n",
    "grid[0][0] = upper_left_tile\n",
    "grid[0][1], grid[1][0] = tuple(tile_id_to_neighbors[upper_left_tile])\n",
    "\n",
    "available_tile_ids.remove(upper_left_tile)\n",
    "available_tile_ids.remove(grid[0][1])\n",
    "available_tile_ids.remove(grid[1][0])"
   ]
  },
  {
   "cell_type": "markdown",
   "metadata": {},
   "source": [
    "Start by filling out all of the tiles in the grid, then we need to orient\n",
    "them correctly."
   ]
  },
  {
   "cell_type": "code",
   "execution_count": 7,
   "metadata": {},
   "outputs": [],
   "source": [
    "CORNERS = {\n",
    "    (0, 0), (0, DIMENSIONS-1), (DIMENSIONS-1, 0), (DIMENSIONS-1, DIMENSIONS-1)\n",
    "}\n",
    "SIDES = {0, DIMENSIONS-1}\n",
    "\n",
    "def is_corner(row, col):\n",
    "    return (row, col) in CORNERS\n",
    "\n",
    "def is_side(row, col):\n",
    "    return row in SIDES or col in SIDES and not is_corner(row, col)\n",
    "\n",
    "def is_interior(row, col):\n",
    "    return not is_corner(row, col) and not is_side(row, col)\n",
    "\n",
    "for row in range(DIMENSIONS):\n",
    "    for col in range(DIMENSIONS):\n",
    "\n",
    "        if grid[row][col] is not None:\n",
    "            continue\n",
    "\n",
    "        if is_corner(row, col):\n",
    "            if col == 0:\n",
    "                neighbor = grid[row-1][col]\n",
    "            else:\n",
    "                neighbor = grid[row][col-1]\n",
    "\n",
    "            candidate_tiles = corner_tiles & tile_id_to_neighbors[neighbor] & available_tile_ids\n",
    "\n",
    "        elif is_side(row, col):\n",
    "            if row == 0 or row == DIMENSIONS - 1:  # top or bottom row\n",
    "                neighbor = grid[row][col-1]\n",
    "            elif col == 0 or col == DIMENSIONS - 1:  # left or right side\n",
    "                neighbor = grid[row-1][col]\n",
    "\n",
    "            candidate_tiles = side_tiles & tile_id_to_neighbors[neighbor] & available_tile_ids\n",
    "\n",
    "        else:  # interior tile\n",
    "            assert is_interior\n",
    "            # check tiles above and to the left, there should only be one that\n",
    "            # matches both\n",
    "            tile_above = grid[row-1][col]\n",
    "            tile_left = grid[row][col-1]\n",
    "            candidate_tiles = interior_tiles & available_tile_ids\n",
    "            candidate_tiles &= tile_id_to_neighbors[tile_above]\n",
    "            candidate_tiles &= tile_id_to_neighbors[tile_left]\n",
    "\n",
    "        assert len(candidate_tiles) == 1\n",
    "        this_tile = candidate_tiles.pop()\n",
    "        available_tile_ids.remove(this_tile)\n",
    "        grid[row][col] = this_tile"
   ]
  },
  {
   "cell_type": "code",
   "execution_count": 8,
   "metadata": {},
   "outputs": [
    {
     "data": {
      "text/plain": [
       "[[2633, 2203, 2207, 1181, 1811, 2713, 2777, 2917, 3491, 2999, 2083, 1867],\n",
       " [1973, 3581, 1693, 2861, 3461, 1453, 2111, 1483, 2161, 2579, 1979, 2543],\n",
       " [3863, 2909, 3259, 1669, 2269, 3547, 2477, 3919, 1223, 1033, 2383, 1019],\n",
       " [2903, 3083, 1667, 3989, 2153, 3467, 2503, 1487, 3617, 2309, 2551, 3079],\n",
       " [1069, 2293, 2221, 2131, 1559, 3257, 3637, 3613, 3907, 2693, 3691, 3583],\n",
       " [2393, 1229, 2857, 2251, 2311, 3877, 3359, 1237, 2333, 3373, 3631, 1823],\n",
       " [3803, 3847, 3571, 3739, 1723, 1997, 3299, 3607, 1321, 1459, 2677, 2791],\n",
       " [2699, 2351, 1151, 2753, 3533, 1597, 3727, 3457, 2729, 3331, 1171, 1201],\n",
       " [1777, 2237, 3821, 3323, 1621, 1759, 3889, 1987, 3917, 3449, 1381, 1327],\n",
       " [2939, 1213, 3391, 2411, 3191, 1153, 3559, 2473, 1549, 3659, 1471, 1619],\n",
       " [3779, 2179, 3229, 1847, 1433, 2137, 3253, 2141, 2837, 2029, 1493, 3167],\n",
       " [1663, 1877, 3527, 2273, 1999, 1063, 2341, 3539, 2803, 1091, 1873, 2441]]"
      ]
     },
     "execution_count": 8,
     "metadata": {},
     "output_type": "execute_result"
    }
   ],
   "source": [
    "grid"
   ]
  },
  {
   "cell_type": "markdown",
   "metadata": {},
   "source": [
    "Now, we need to orient all tiles so that the borders line up\n",
    "with neighboring tiles."
   ]
  },
  {
   "cell_type": "code",
   "execution_count": 9,
   "metadata": {},
   "outputs": [],
   "source": [
    "from copy import deepcopy\n",
    "\n",
    "tile_grid = [[None] * DIMENSIONS for _ in range(DIMENSIONS)]\n",
    "\n",
    "for row in range(DIMENSIONS):\n",
    "    for col in range(DIMENSIONS):\n",
    "        this_tile = id_to_tile[grid[row][col]]\n",
    "        tile_left = tile_right = tile_above = tile_below = None\n",
    "        if col > 0:\n",
    "            tile_left = id_to_tile[grid[row][col-1]]\n",
    "        if col < DIMENSIONS - 1:\n",
    "            tile_right = id_to_tile[grid[row][col+1]]\n",
    "        if row > 0:\n",
    "            tile_above = id_to_tile[grid[row-1][col]]\n",
    "        if row < DIMENSIONS - 1:\n",
    "            tile_below = id_to_tile[grid[row+1][col]]\n",
    "\n",
    "        orientation_found = False\n",
    "        horizontal_flip = False\n",
    "\n",
    "        while not orientation_found:\n",
    "\n",
    "            if horizontal_flip:\n",
    "                this_tile.flip_horizontal()\n",
    "            else:\n",
    "                this_tile.flip_vertical()\n",
    "\n",
    "            horizontal_flip = not horizontal_flip\n",
    "\n",
    "            for _ in range(4):\n",
    "                left_found = tile_left is None or this_tile.left in tile_left.all_sides\n",
    "                right_found = tile_right is None or this_tile.right in tile_right.all_sides\n",
    "                top_found = tile_above is None or this_tile.top in tile_above.all_sides\n",
    "                bottom_found = tile_below is None or this_tile.bottom in tile_below.all_sides\n",
    "\n",
    "                orientation_found = left_found and right_found and top_found and bottom_found\n",
    "                if orientation_found:\n",
    "                    break\n",
    "\n",
    "                this_tile.rotate_clockwise()\n",
    "\n",
    "        tile_grid[row][col] = this_tile"
   ]
  },
  {
   "cell_type": "code",
   "execution_count": 10,
   "metadata": {},
   "outputs": [],
   "source": [
    "string_grid = [[None] * DIMENSIONS for _ in range(DIMENSIONS)]\n",
    "\n",
    "for row in range(DIMENSIONS):\n",
    "    for col in range(DIMENSIONS):\n",
    "        this_tile = tile_grid[row][col]\n",
    "        string_grid[row][col] = [line[1:-1] for line in this_tile.grid[1:-1]]"
   ]
  },
  {
   "cell_type": "code",
   "execution_count": 11,
   "metadata": {},
   "outputs": [],
   "source": [
    "final_string_grid = []\n",
    "\n",
    "for row in string_grid:\n",
    "    for i in range(len(row[0])):\n",
    "        final_string_grid.append(\"\".join([grid[i] for grid in row]))"
   ]
  },
  {
   "cell_type": "code",
   "execution_count": 12,
   "metadata": {},
   "outputs": [],
   "source": [
    "first_row_regex = \".{18}#.\"\n",
    "second_row_regex = \"#.{4}##.{4}##.{4}###\"\n",
    "third_row_regex = \".#..#..#..#..#..#...\"\n",
    "\n",
    "candidates = [\n",
    "    [char == \"#\" for char in line]\n",
    "    for line in final_string_grid\n",
    "]\n",
    "\n",
    "for flip_func in (flip_horizontal, flip_vertical, flip_horizontal):\n",
    "    for _ in range(4):\n",
    "        # figure out where serpant occurs\n",
    "        for row_num in range(len(final_string_grid) - 2):\n",
    "            first_row = final_string_grid[row_num]\n",
    "            second_row = final_string_grid[row_num+1]\n",
    "            third_row = final_string_grid[row_num+2]\n",
    "\n",
    "            for start_index in range(len(first_row)-20):\n",
    "                first_str = first_row[start_index:start_index+20]\n",
    "                second_str = second_row[start_index:start_index+20]\n",
    "                third_str = third_row[start_index:start_index+20]\n",
    "\n",
    "                first_row_match = re.fullmatch(first_row_regex, first_str)\n",
    "                second_row_match = re.fullmatch(second_row_regex, second_str)\n",
    "                third_row_match = re.fullmatch(third_row_regex, third_str)\n",
    "                if first_row_match and second_row_match and third_row_match:\n",
    "                    candidates[row_num][start_index + 18] = False\n",
    "\n",
    "                    for col in (0, 5, 6, 11, 12, 17, 18, 19):\n",
    "                        candidates[row_num+1][start_index + col] = False\n",
    "\n",
    "                    for col in (1, 4, 7, 10, 13, 16):\n",
    "                        candidates[row_num+2][start_index + col] = False\n",
    "\n",
    "        final_string_grid = rotate_string_grid_clockwise(final_string_grid)\n",
    "        candidates = rotate_clockwise(candidates)\n",
    "\n",
    "    final_string_grid = flip_func(final_string_grid)\n",
    "    candidates = flip_func(candidates)"
   ]
  },
  {
   "cell_type": "code",
   "execution_count": 13,
   "metadata": {},
   "outputs": [
    {
     "data": {
      "text/plain": [
       "1639"
      ]
     },
     "execution_count": 13,
     "metadata": {},
     "output_type": "execute_result"
    }
   ],
   "source": [
    "sum(\n",
    "    candidate\n",
    "    for line in candidates\n",
    "    for candidate in line\n",
    ")"
   ]
  }
 ],
 "metadata": {
  "kernelspec": {
   "display_name": "Python 3.8",
   "language": "python",
   "name": "python38"
  },
  "language_info": {
   "codemirror_mode": {
    "name": "ipython",
    "version": 3
   },
   "file_extension": ".py",
   "mimetype": "text/x-python",
   "name": "python",
   "nbconvert_exporter": "python",
   "pygments_lexer": "ipython3",
   "version": "3.8.5"
  }
 },
 "nbformat": 4,
 "nbformat_minor": 4
}

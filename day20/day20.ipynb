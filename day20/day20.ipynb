{
 "cells": [
  {
   "cell_type": "code",
   "execution_count": 1,
   "metadata": {},
   "outputs": [],
   "source": [
    "with open(\"input.txt\") as f:\n",
    "    lines = [\n",
    "        line.strip() for line in f.readlines() if line.strip()\n",
    "    ]"
   ]
  },
  {
   "cell_type": "code",
   "execution_count": 2,
   "metadata": {},
   "outputs": [],
   "source": [
    "from typing import List\n",
    "\n",
    "class Tile:\n",
    "\n",
    "    def __init__(self, tile_id: int, grid: List[List[str]]):\n",
    "        self.tile_id = tile_id\n",
    "        self._grid = grid\n",
    "        self._compute_lrtb()\n",
    "        self.all_sides = {self.top, self.bottom, self.left, self.right}\n",
    "        self.flip_horizontal()\n",
    "        self.all_sides |= {self.top, self.bottom, self.left, self.right}\n",
    "        self.flip_vertical()\n",
    "        self.all_sides |= {self.top, self.bottom, self.left, self.right}\n",
    "        self.flip_horizontal()\n",
    "        self.all_sides |= {self.top, self.bottom, self.left, self.right}\n",
    "        self.flip_vertical()\n",
    "\n",
    "    def _compute_lrtb(self):\n",
    "        \"\"\"Sets the left, right, top, bottom based off of self._grid\"\"\"\n",
    "        self.top = \"\".join(self._grid[0])\n",
    "        self.bottom = \"\".join(self._grid[-1])\n",
    "        self.left = \"\".join([line[0] for line in self._grid])\n",
    "        self.right = \"\".join([line[-1] for line in self._grid])\n",
    "\n",
    "    def rotate_clockwise(self):\n",
    "        \"\"\"Rotates the tile clockwise\"\"\"\n",
    "        self._grid = list(zip(*self._grid[::-1]))\n",
    "        self._grid = [\"\".join(line) for line in self._grid]\n",
    "        self._compute_lrtb()\n",
    "\n",
    "    def flip_horizontal(self):\n",
    "        \"\"\"Flips the tile along the vertical axis (i.e. left to right)\"\"\"\n",
    "        self._grid = [line[::-1] for line in self._grid]\n",
    "        self._compute_lrtb()\n",
    "\n",
    "    def flip_vertical(self):\n",
    "        \"\"\"Flips along the horizontal axis\"\"\"\n",
    "        self._grid = list(reversed(self._grid))\n",
    "        self._compute_lrtb()\n",
    "\n",
    "    def any_matches(self, other_tile) -> bool:\n",
    "        \"\"\"Returns whether any configuration allows two tiles to line up\"\"\"\n",
    "        return bool(\n",
    "            self.all_sides.intersection(other_tile.all_sides)\n",
    "        )\n",
    "\n",
    "    def __eq__(self, other_tile):\n",
    "        return self.tile_id == other_tile.tile_id\n",
    "\n",
    "    def __repr__(self):\n",
    "        return str(self.name) + \"\\n\" + \"\\n\".join(self._grid)"
   ]
  },
  {
   "cell_type": "code",
   "execution_count": 3,
   "metadata": {},
   "outputs": [],
   "source": [
    "from collections import defaultdict\n",
    "import re\n",
    "\n",
    "id_to_tile = defaultdict(list)\n",
    "last_tile = None\n",
    "\n",
    "for line in lines:\n",
    "\n",
    "    if match := re.fullmatch(\"Tile (\\d+):\", line):\n",
    "        last_tile = int(match.group(1))\n",
    "    else:\n",
    "        id_to_tile[last_tile].append(line)\n",
    "\n",
    "id_to_tile = {\n",
    "    tile_id: Tile(tile_id, grid) for tile_id, grid in id_to_tile.items()\n",
    "}"
   ]
  },
  {
   "cell_type": "markdown",
   "metadata": {},
   "source": [
    "## part1\n",
    "\n",
    "We take a bit of a shortcut here. For each tile, we find all other tiles\n",
    "that could possibly be a neighbor (must have two sides that could align).\n",
    "If a tile only has 2 possible neighbors, then it must be a corner tile."
   ]
  },
  {
   "cell_type": "code",
   "execution_count": 4,
   "metadata": {},
   "outputs": [
    {
     "data": {
      "text/plain": [
       "19955159604613"
      ]
     },
     "execution_count": 4,
     "metadata": {},
     "output_type": "execute_result"
    }
   ],
   "source": [
    "from functools import reduce\n",
    "from operator import mul\n",
    "\n",
    "tile_id_to_neighbors = {\n",
    "    tile_id: [\n",
    "        other_tile\n",
    "        for other_tile in id_to_tile.values()\n",
    "        if tile.any_matches(other_tile) and tile != other_tile\n",
    "    ]\n",
    "    for tile_id, tile in id_to_tile.items()\n",
    "}\n",
    "\n",
    "corners_ids = [\n",
    "    tile_id\n",
    "    for tile_id, neighbors in tile_id_to_neighbors.items()\n",
    "    if len(neighbors) == 2\n",
    "]\n",
    "reduce(mul, corners_ids)"
   ]
  }
 ],
 "metadata": {
  "kernelspec": {
   "display_name": "Python 3.8",
   "language": "python",
   "name": "python38"
  },
  "language_info": {
   "codemirror_mode": {
    "name": "ipython",
    "version": 3
   },
   "file_extension": ".py",
   "mimetype": "text/x-python",
   "name": "python",
   "nbconvert_exporter": "python",
   "pygments_lexer": "ipython3",
   "version": "3.8.5"
  }
 },
 "nbformat": 4,
 "nbformat_minor": 4
}

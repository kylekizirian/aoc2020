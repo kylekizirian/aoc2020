{
 "cells": [
  {
   "cell_type": "code",
   "execution_count": 1,
   "metadata": {},
   "outputs": [],
   "source": [
    "puzzle_input = \"1,2,16,19,18,0\"\n",
    "puzzle_input = list(map(int, puzzle_input.split(\",\")))"
   ]
  },
  {
   "cell_type": "code",
   "execution_count": 2,
   "metadata": {},
   "outputs": [],
   "source": [
    "from typing import List\n",
    "\n",
    "def play_game(\n",
    "    starting_nums: List[int],\n",
    "    num_rounds: int\n",
    ") -> int:\n",
    "    \"\"\"Plays game with the following rules:\n",
    "\n",
    "    Each turn a player speaks the numbers in\n",
    "    the starting_nums list. After the initial\n",
    "    numbers, if the previous number hasn't been\n",
    "    spoken before then the next person will\n",
    "    say \"0\". If the previous number has been\n",
    "    spoken before, then the next person will\n",
    "    say the number of rounds that it's been\n",
    "    since the last number was spoken.\n",
    "    \"\"\"\n",
    "    # map integers to the last time they\n",
    "    # were spoken\n",
    "    last_spoken = {\n",
    "        num: index + 1\n",
    "        for index, num in enumerate(starting_nums)\n",
    "    }\n",
    "\n",
    "    cur_round = len(starting_nums) + 1\n",
    "    next_round_num = 0\n",
    "\n",
    "    while cur_round < num_rounds:\n",
    "        this_round_num = next_round_num\n",
    "\n",
    "        try:\n",
    "            # Look in dictionary for the last round that\n",
    "            # a given number was spoken. If it's not in\n",
    "            # the dictionary then it hasn't been spoken\n",
    "            # before and will raise a KeyError.\n",
    "            # If it is in the dictionary, then the next\n",
    "            # round's number is the difference between\n",
    "            # this round and the last round it was spoken.\n",
    "            last_round_spoken = last_spoken[this_round_num]\n",
    "            next_round_num = cur_round - last_round_spoken\n",
    "        except KeyError:\n",
    "            # If this round's number hasn't been spoken\n",
    "            # before, the next number is 0.\n",
    "            next_round_num = 0\n",
    "\n",
    "        last_spoken[this_round_num] = cur_round\n",
    "        cur_round += 1\n",
    "\n",
    "    return next_round_num"
   ]
  },
  {
   "cell_type": "markdown",
   "metadata": {},
   "source": [
    "## part1"
   ]
  },
  {
   "cell_type": "code",
   "execution_count": 3,
   "metadata": {},
   "outputs": [
    {
     "name": "stdout",
     "output_type": "stream",
     "text": [
      "355 µs ± 3.52 µs per loop (mean ± std. dev. of 7 runs, 1000 loops each)\n"
     ]
    }
   ],
   "source": [
    "%%timeit\n",
    "play_game(puzzle_input, 2020)"
   ]
  },
  {
   "cell_type": "code",
   "execution_count": 4,
   "metadata": {},
   "outputs": [
    {
     "data": {
      "text/plain": [
       "536"
      ]
     },
     "execution_count": 4,
     "metadata": {},
     "output_type": "execute_result"
    }
   ],
   "source": [
    "play_game(puzzle_input, 2020)"
   ]
  },
  {
   "cell_type": "markdown",
   "metadata": {},
   "source": [
    "## part2"
   ]
  },
  {
   "cell_type": "code",
   "execution_count": 5,
   "metadata": {},
   "outputs": [
    {
     "name": "stdout",
     "output_type": "stream",
     "text": [
      "11.9 s ± 106 ms per loop (mean ± std. dev. of 7 runs, 1 loop each)\n"
     ]
    }
   ],
   "source": [
    "%%timeit\n",
    "play_game(puzzle_input, 30000000)"
   ]
  },
  {
   "cell_type": "code",
   "execution_count": 6,
   "metadata": {},
   "outputs": [
    {
     "data": {
      "text/plain": [
       "24065124"
      ]
     },
     "execution_count": 6,
     "metadata": {},
     "output_type": "execute_result"
    }
   ],
   "source": [
    "play_game(puzzle_input, 30000000)"
   ]
  }
 ],
 "metadata": {
  "kernelspec": {
   "display_name": "Python 3.7.5 64-bit ('math': conda)",
   "language": "python",
   "name": "python37564bitmathconda3c1422069eaf4c3f9b49eaa87ff9aec1"
  },
  "language_info": {
   "codemirror_mode": {
    "name": "ipython",
    "version": 3
   },
   "file_extension": ".py",
   "mimetype": "text/x-python",
   "name": "python",
   "nbconvert_exporter": "python",
   "pygments_lexer": "ipython3",
   "version": "3.7.7"
  }
 },
 "nbformat": 4,
 "nbformat_minor": 4
}

{
 "cells": [
  {
   "cell_type": "code",
   "execution_count": 1,
   "metadata": {},
   "outputs": [],
   "source": [
    "with open(\"input.txt\") as f:\n",
    "    seats = [line.strip() for line in f.readlines()]"
   ]
  },
  {
   "cell_type": "code",
   "execution_count": 2,
   "metadata": {},
   "outputs": [],
   "source": [
    "def binary_board(\n",
    "    chars: str, upper: int, lower_char: str\n",
    ") -> int:\n",
    "\n",
    "    lower = 0\n",
    "    for char in chars[:-1]:\n",
    "        if char == lower_char:\n",
    "            upper = int((lower + upper) / 2)\n",
    "        else:\n",
    "            lower = round((lower + upper) / 2)\n",
    "\n",
    "    return lower if chars[-1] == lower_char else upper"
   ]
  },
  {
   "cell_type": "code",
   "execution_count": 3,
   "metadata": {},
   "outputs": [],
   "source": [
    "from functools import partial\n",
    "\n",
    "get_row = partial(binary_board, upper=127, lower_char=\"F\")\n",
    "get_col = partial(binary_board, upper=7, lower_char=\"L\")\n",
    "\n",
    "def get_seat_id(seat: str) -> int:\n",
    "    row_str = seat[:-3]\n",
    "    col_str = seat[-3:]\n",
    "    return get_row(row_str) * 8 + get_col(col_str)"
   ]
  },
  {
   "cell_type": "markdown",
   "metadata": {},
   "source": [
    "## part 1"
   ]
  },
  {
   "cell_type": "code",
   "execution_count": 4,
   "metadata": {},
   "outputs": [
    {
     "data": {
      "text/plain": [
       "980"
      ]
     },
     "execution_count": 4,
     "metadata": {},
     "output_type": "execute_result"
    }
   ],
   "source": [
    "max(get_seat_id(seat) for seat in seats)"
   ]
  },
  {
   "cell_type": "markdown",
   "metadata": {},
   "source": [
    "## part 2"
   ]
  },
  {
   "cell_type": "code",
   "execution_count": 5,
   "metadata": {},
   "outputs": [
    {
     "name": "stdout",
     "output_type": "stream",
     "text": [
      "607\n"
     ]
    }
   ],
   "source": [
    "seat_ids = sorted(get_seat_id(seat) for seat in seats)\n",
    "\n",
    "for seat1, seat2 in zip(seat_ids, seat_ids[1:]):\n",
    "    if seat2 - seat1 > 1:\n",
    "        print(seat1 + 1)\n",
    "        break"
   ]
  }
 ],
 "metadata": {
  "kernelspec": {
   "display_name": "Python 3.7.5 64-bit ('math': conda)",
   "language": "python",
   "name": "python37564bitmathconda3c1422069eaf4c3f9b49eaa87ff9aec1"
  },
  "language_info": {
   "codemirror_mode": {
    "name": "ipython",
    "version": 3
   },
   "file_extension": ".py",
   "mimetype": "text/x-python",
   "name": "python",
   "nbconvert_exporter": "python",
   "pygments_lexer": "ipython3",
   "version": "3.7.7"
  }
 },
 "nbformat": 4,
 "nbformat_minor": 4
}

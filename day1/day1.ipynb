{
 "cells": [
  {
   "cell_type": "code",
   "execution_count": 1,
   "metadata": {},
   "outputs": [],
   "source": [
    "with open(\"./input.txt\") as f:\n",
    "    nums = list(map(int, f.readlines()))\n",
    "    nums_set = set(nums)"
   ]
  },
  {
   "cell_type": "code",
   "execution_count": 2,
   "metadata": {},
   "outputs": [
    {
     "name": "stdout",
     "output_type": "stream",
     "text": [
      "299299\n"
     ]
    }
   ],
   "source": [
    "# part 1\n",
    "for num in nums_set:\n",
    "    if 2020 - num in nums_set:\n",
    "        print(num * (2020 - num))\n",
    "        break"
   ]
  },
  {
   "cell_type": "code",
   "execution_count": 3,
   "metadata": {},
   "outputs": [
    {
     "name": "stdout",
     "output_type": "stream",
     "text": [
      "287730716\n"
     ]
    }
   ],
   "source": [
    "# part 2\n",
    "found = False\n",
    "i = 0\n",
    "while not found:\n",
    "    num1 = nums[i]\n",
    "    for j in range(i+1, len(nums)):\n",
    "        num2 = nums[j]\n",
    "        if 2020 - num1 - num2 in nums_set:\n",
    "            print(num1 * num2 * (2020 - num1 - num2))\n",
    "            found = True\n",
    "            break\n",
    "    i += 1"
   ]
  }
 ],
 "metadata": {
  "kernelspec": {
   "display_name": "Python 3.7.5 64-bit ('math': conda)",
   "language": "python",
   "name": "python37564bitmathconda3c1422069eaf4c3f9b49eaa87ff9aec1"
  },
  "language_info": {
   "codemirror_mode": {
    "name": "ipython",
    "version": 3
   },
   "file_extension": ".py",
   "mimetype": "text/x-python",
   "name": "python",
   "nbconvert_exporter": "python",
   "pygments_lexer": "ipython3",
   "version": "3.7.7"
  }
 },
 "nbformat": 4,
 "nbformat_minor": 4
}

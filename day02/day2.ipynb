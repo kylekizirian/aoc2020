{
 "cells": [
  {
   "cell_type": "code",
   "execution_count": 1,
   "metadata": {},
   "outputs": [],
   "source": [
    "with open(\"./input.txt\") as f:\n",
    "    passwords = [line.strip() for line in f.readlines()]"
   ]
  },
  {
   "cell_type": "markdown",
   "metadata": {},
   "source": [
    "## part 1"
   ]
  },
  {
   "cell_type": "code",
   "execution_count": 2,
   "metadata": {},
   "outputs": [],
   "source": [
    "import re\n",
    "from typing import Callable, List\n",
    "\n",
    "def is_valid(password: str, policy: Callable) -> bool:\n",
    "    \"\"\"Takes a password and a policy and returns if valid\"\"\"\n",
    "    match = re.match(\"(\\d+)-(\\d+) (\\w): (\\w+)\", password)\n",
    "    lower, upper = int(match.group(1)), int(match.group(2))\n",
    "    char, password = match.group(3), match.group(4)\n",
    "    return policy(lower, upper, char, password)\n",
    "\n",
    "def num_valid_passwords(passwords: List[str], policy: Callable):\n",
    "    \"\"\"Takes list of passwords and a policy and returns num valid\"\"\"\n",
    "    return sum(\n",
    "        is_valid(password, policy) for password in passwords\n",
    "    )"
   ]
  },
  {
   "cell_type": "code",
   "execution_count": 3,
   "metadata": {},
   "outputs": [
    {
     "data": {
      "text/plain": [
       "546"
      ]
     },
     "execution_count": 3,
     "metadata": {},
     "output_type": "execute_result"
    }
   ],
   "source": [
    "def policy(lower, upper, char, password):\n",
    "    return lower <= password.count(char) <= upper\n",
    "\n",
    "num_valid_passwords(passwords, policy)"
   ]
  },
  {
   "cell_type": "markdown",
   "metadata": {},
   "source": [
    "## part 2"
   ]
  },
  {
   "cell_type": "code",
   "execution_count": 4,
   "metadata": {},
   "outputs": [
    {
     "data": {
      "text/plain": [
       "275"
      ]
     },
     "execution_count": 4,
     "metadata": {},
     "output_type": "execute_result"
    }
   ],
   "source": [
    "def policy(lower, upper, char, password):\n",
    "    # XOR two conditions together, we only want one\n",
    "    # to be True, not both\n",
    "    return (password[lower-1] == char) ^ (password[upper-1] == char)\n",
    "\n",
    "num_valid_passwords(passwords, policy)"
   ]
  }
 ],
 "metadata": {
  "kernelspec": {
   "display_name": "Python 3.7.5 64-bit ('math': conda)",
   "language": "python",
   "name": "python37564bitmathconda3c1422069eaf4c3f9b49eaa87ff9aec1"
  },
  "language_info": {
   "codemirror_mode": {
    "name": "ipython",
    "version": 3
   },
   "file_extension": ".py",
   "mimetype": "text/x-python",
   "name": "python",
   "nbconvert_exporter": "python",
   "pygments_lexer": "ipython3",
   "version": "3.7.7"
  }
 },
 "nbformat": 4,
 "nbformat_minor": 4
}

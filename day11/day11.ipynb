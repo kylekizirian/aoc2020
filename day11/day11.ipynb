{
 "cells": [
  {
   "cell_type": "code",
   "execution_count": 1,
   "metadata": {},
   "outputs": [],
   "source": [
    "with open(\"input.txt\") as f:\n",
    "    grid = [list(line) for line in f.readlines()]"
   ]
  },
  {
   "cell_type": "markdown",
   "metadata": {},
   "source": [
    "## part1"
   ]
  },
  {
   "cell_type": "code",
   "execution_count": 2,
   "metadata": {},
   "outputs": [],
   "source": [
    "from copy import deepcopy\n",
    "from typing import List, Tuple\n",
    "\n",
    "Grid = List[List[str]]\n",
    "Location = Tuple[int, int]\n",
    "Locations = List[Tuple[int, int]]\n",
    "\n",
    "class SeatSimulator:\n",
    "\n",
    "    def __init__(self, grid: Grid):\n",
    "        self._grid = grid\n",
    "        self._num_rows = len(grid)\n",
    "        self._num_cols = len(grid[0])\n",
    "\n",
    "    def _valid_pos(self, i: int, j: int):\n",
    "        valid_row = 0 <= i < self._num_rows\n",
    "        valid_col = 0 <= j < self._num_cols\n",
    "        return valid_row and valid_col\n",
    "\n",
    "    def _is_seat(self, i: int, j: int) -> bool:\n",
    "        return self._valid_pos(i, j) and self._grid[i][j] != \".\"\n",
    "\n",
    "    def _is_empty(self, i: int, j: int) -> bool:\n",
    "        return self._grid[i][j] == \"L\"\n",
    "\n",
    "    def _is_occupied(self, i: int, j: int) -> bool:\n",
    "        return self._grid[i][j] == \"#\"\n",
    "\n",
    "    def _adjacent_seats(self, i: int, j: int) -> Locations:\n",
    "        adj_cells = [\n",
    "            (i-1, j-1), (i-1, j), (i-1, j+1), (i, j+1),\n",
    "            (i+1, j+1), (i+1, j), (i+1, j-1), (i, j-1),\n",
    "        ]\n",
    "        return [\n",
    "            adj_cell\n",
    "            for adj_cell in adj_cells\n",
    "            if self._is_seat(*adj_cell)\n",
    "        ]\n",
    "\n",
    "    def _num_adjacent_occupied(self, i: int, j: int) -> int:\n",
    "        return sum(\n",
    "            self._is_occupied(*adj_seat)\n",
    "            for adj_seat\n",
    "            in self._adjacent_seats(i, j)\n",
    "        )\n",
    "\n",
    "    def _adjacent_empty(self, i: int, j: int) -> bool:\n",
    "        return self._num_adjacent_occupied(i, j) == 0\n",
    "\n",
    "    def _surrounding_occupied(self, i: int, j: int) -> bool:\n",
    "        return self._num_adjacent_occupied(i, j) >= 4\n",
    "\n",
    "    def _round(self) -> Grid:\n",
    "        \"\"\"Runs round of simulation and returns new grid\"\"\"\n",
    "        updated_grid = deepcopy(self._grid)\n",
    "        for i, row in enumerate(self._grid):\n",
    "            for j, _ in enumerate(row):\n",
    "                if self._is_empty(i, j) and self._adjacent_empty(i, j):\n",
    "                    updated_grid[i][j] = \"#\"\n",
    "                elif self._is_occupied(i, j) and self._surrounding_occupied(i, j):\n",
    "                    updated_grid[i][j] = \"L\"\n",
    "\n",
    "        return updated_grid\n",
    "\n",
    "    def _num_occupied(self) -> int:\n",
    "        \"\"\"Total number of occupied seats\"\"\"\n",
    "        return sum(\n",
    "            self._is_occupied(i, j)\n",
    "            for i in range(self._num_rows)\n",
    "            for j in range(self._num_cols)\n",
    "        )\n",
    "\n",
    "    def simulate(self) -> int:\n",
    "        \"\"\"Run simulation and return # occupied seats\"\"\"\n",
    "        updated_grid = self._round()\n",
    "        while self._grid != updated_grid:\n",
    "            self._grid = updated_grid\n",
    "            updated_grid = self._round()\n",
    "\n",
    "        return self._num_occupied()"
   ]
  },
  {
   "cell_type": "code",
   "execution_count": 3,
   "metadata": {},
   "outputs": [
    {
     "data": {
      "text/plain": [
       "2277"
      ]
     },
     "execution_count": 3,
     "metadata": {},
     "output_type": "execute_result"
    }
   ],
   "source": [
    "SeatSimulator(grid).simulate()"
   ]
  },
  {
   "cell_type": "markdown",
   "metadata": {},
   "source": [
    "## part2"
   ]
  },
  {
   "cell_type": "code",
   "execution_count": 4,
   "metadata": {},
   "outputs": [],
   "source": [
    "def _adjacent_seats(self, i: int, j: int) -> Locations:\n",
    "    directions = [\n",
    "        (-1, -1), (-1, 0), (-1, 1), (0, 1),\n",
    "        (1, 1), (1, 0), (1, -1), (0, -1),\n",
    "    ]\n",
    "    adj_seats = []\n",
    "    for direction in directions:\n",
    "        row_direction, col_direction = direction\n",
    "        adj_cell = [i+row_direction, j+col_direction]\n",
    "\n",
    "        while self._valid_pos(*adj_cell):\n",
    "            if self._is_seat(*adj_cell):\n",
    "                adj_seats.append(adj_cell)\n",
    "                break\n",
    "\n",
    "            adj_cell[0] += row_direction\n",
    "            adj_cell[1] += col_direction\n",
    "\n",
    "    return adj_seats\n",
    "\n",
    "def _surrounding_occupied(self, i: int, j: int) -> bool:\n",
    "    return self._num_adjacent_occupied(i, j) >= 5\n",
    "\n",
    "SeatSimulator._adjacent_seats = _adjacent_seats\n",
    "SeatSimulator._surrounding_occupied = _surrounding_occupied"
   ]
  },
  {
   "cell_type": "code",
   "execution_count": 5,
   "metadata": {},
   "outputs": [
    {
     "data": {
      "text/plain": [
       "2066"
      ]
     },
     "execution_count": 5,
     "metadata": {},
     "output_type": "execute_result"
    }
   ],
   "source": [
    "SeatSimulator(grid).simulate()"
   ]
  }
 ],
 "metadata": {
  "kernelspec": {
   "display_name": "Python 3.7.5 64-bit ('math': conda)",
   "language": "python",
   "name": "python37564bitmathconda3c1422069eaf4c3f9b49eaa87ff9aec1"
  },
  "language_info": {
   "codemirror_mode": {
    "name": "ipython",
    "version": 3
   },
   "file_extension": ".py",
   "mimetype": "text/x-python",
   "name": "python",
   "nbconvert_exporter": "python",
   "pygments_lexer": "ipython3",
   "version": "3.7.7"
  }
 },
 "nbformat": 4,
 "nbformat_minor": 4
}

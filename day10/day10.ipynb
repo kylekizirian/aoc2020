{
 "cells": [
  {
   "cell_type": "code",
   "execution_count": 1,
   "metadata": {},
   "outputs": [],
   "source": [
    "with open(\"input.txt\") as f:\n",
    "    jolts = list(map(int, f.readlines()))\n",
    "\n",
    "# prepend 0, the rating of the wall\n",
    "jolts = [0] + sorted(jolts)\n",
    "# append the device rating which is\n",
    "# 3 greater than the max adapter rating\n",
    "jolts += [jolts[-1] + 3]"
   ]
  },
  {
   "cell_type": "markdown",
   "metadata": {},
   "source": [
    "## part1\n",
    "\n",
    "Iterate through the ratings pairwise and count the\n",
    "number of pairs with a diff of 1 and the number of\n",
    "pairs with a diff of 3."
   ]
  },
  {
   "cell_type": "code",
   "execution_count": 2,
   "metadata": {},
   "outputs": [
    {
     "data": {
      "text/plain": [
       "2048"
      ]
     },
     "execution_count": 2,
     "metadata": {},
     "output_type": "execute_result"
    }
   ],
   "source": [
    "diff1_count = diff3_count = 0\n",
    "\n",
    "for jolt1, jolt2 in zip(jolts, jolts[1:]):\n",
    "    diff = jolt2 - jolt1\n",
    "    diff1_count += diff == 1\n",
    "    diff3_count += diff == 3\n",
    "\n",
    "diff1_count * diff3_count"
   ]
  },
  {
   "cell_type": "markdown",
   "metadata": {},
   "source": [
    "## part2\n",
    "\n",
    "The goal is to count the number of valid arrangements\n",
    "of adapters. An arrangement is valid if an adapter is\n",
    "connected to another with a rating that's 1 to 3 lower\n",
    "than the new adapter's rating.\n",
    "\n",
    "This can be modeled as a graph problem where the nodes\n",
    "are the adapters and the edges represent valid connections\n",
    "(that is, there are edges between nodes with a rating \n",
    "difference between 1 and 3). The question then is the\n",
    "number of paths in the graph from 0 to the device rating.\n",
    "\n",
    "We use an array that stores the number of arrangements that\n",
    "involve a given adapter rating. There is 1 valid way to use\n",
    "the wall adapter so the 0th index in the array is initialized\n",
    "to 1. For each subsequent adapter, the number of valid ways\n",
    "to use it is the sum of the number of valid ways to use a\n",
    "previous adapter.\n",
    "\n",
    "That is, if we have adapter ratings 0, 1, 2, 3 then the number\n",
    "of valid ways to use adapter rating 3 is equal to the sum of\n",
    "the ways to use 0, 1, and 2 since all of these are valid as\n",
    "previous adapters.\n",
    "\n",
    "Using this method, we build up the number of ways to use any\n",
    "given adapter one at a time and our answer is the number of\n",
    "arrangements for the last adapter rating (the adapter rating\n",
    "of the device itself)."
   ]
  },
  {
   "cell_type": "code",
   "execution_count": 3,
   "metadata": {},
   "outputs": [
    {
     "data": {
      "text/plain": [
       "1322306994176"
      ]
     },
     "execution_count": 3,
     "metadata": {},
     "output_type": "execute_result"
    }
   ],
   "source": [
    "ways = [0] * len(jolts)\n",
    "ways[0] = 1\n",
    "\n",
    "for cur_index, cur_rating in enumerate(jolts):\n",
    "    for prev_index in range(cur_index-1, -1, -1):\n",
    "        prev_rating = jolts[prev_index]\n",
    "\n",
    "        if cur_rating - prev_rating > 3:\n",
    "            break\n",
    "\n",
    "        ways[cur_index] += ways[prev_index]\n",
    "\n",
    "ways[-1]"
   ]
  }
 ],
 "metadata": {
  "kernelspec": {
   "display_name": "Python 3.7.5 64-bit ('math': conda)",
   "language": "python",
   "name": "python37564bitmathconda3c1422069eaf4c3f9b49eaa87ff9aec1"
  },
  "language_info": {
   "codemirror_mode": {
    "name": "ipython",
    "version": 3
   },
   "file_extension": ".py",
   "mimetype": "text/x-python",
   "name": "python",
   "nbconvert_exporter": "python",
   "pygments_lexer": "ipython3",
   "version": "3.7.7"
  }
 },
 "nbformat": 4,
 "nbformat_minor": 4
}

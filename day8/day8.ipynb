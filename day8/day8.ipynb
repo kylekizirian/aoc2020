{
 "cells": [
  {
   "cell_type": "code",
   "execution_count": 1,
   "metadata": {},
   "outputs": [],
   "source": [
    "with open(\"input.txt\") as f:\n",
    "    instructions = [line.strip() for line in f.readlines()]"
   ]
  },
  {
   "cell_type": "markdown",
   "metadata": {},
   "source": [
    "## part1"
   ]
  },
  {
   "cell_type": "code",
   "execution_count": 2,
   "metadata": {},
   "outputs": [],
   "source": [
    "from collections import namedtuple\n",
    "\n",
    "# InstructionRun stores results of running a set\n",
    "# of an instructions. It holds the value of the\n",
    "# accumulator, a list of booleans for whether or\n",
    "# not a given instruction was executed (indexed\n",
    "# by the instruction pointer), and whether or\n",
    "# not the instructions terminated (this is False\n",
    "# if it goes into an infinite loop).\n",
    "InstructionRun = namedtuple(\n",
    "    \"InstructionRun\",\n",
    "    [\"accumulator\", \"executed\", \"terminated\"],\n",
    ")"
   ]
  },
  {
   "cell_type": "code",
   "execution_count": 3,
   "metadata": {},
   "outputs": [
    {
     "data": {
      "text/plain": [
       "1749"
      ]
     },
     "execution_count": 3,
     "metadata": {},
     "output_type": "execute_result"
    }
   ],
   "source": [
    "from typing import List\n",
    "\n",
    "def run_instructions(\n",
    "    instructions: List[str]\n",
    ") -> InstructionRun:\n",
    "    \"\"\"Runs instructions and returns an InstructionRun\n",
    "    object with the value of the accumulator, the\n",
    "    instructions that were executed, and whether or not\n",
    "    the instructions terminated.\n",
    "    \"\"\"\n",
    "    executed = [False] * len(instructions)\n",
    "    accumulator = 0\n",
    "    inst_ptr = 0\n",
    "\n",
    "    while inst_ptr < len(instructions) and not executed[inst_ptr]:\n",
    "        instruction = instructions[inst_ptr]\n",
    "        executed[inst_ptr] = True\n",
    "\n",
    "        inst, count = instruction.split()\n",
    "        count = int(count)\n",
    "\n",
    "        if inst == \"acc\":\n",
    "            accumulator += count\n",
    "            inst_ptr += 1\n",
    "        elif inst == \"jmp\":\n",
    "            inst_ptr += count\n",
    "        else:\n",
    "            inst_ptr += 1\n",
    "\n",
    "    return InstructionRun(\n",
    "        accumulator, executed, inst_ptr == len(instructions)\n",
    "    )\n",
    "\n",
    "\n",
    "results = run_instructions(instructions)\n",
    "results.accumulator"
   ]
  },
  {
   "cell_type": "markdown",
   "metadata": {},
   "source": [
    "## part2\n",
    "\n",
    "We want to figure out which jmp/nop we can flip\n",
    "to get the instructions to terminate. We check\n",
    "all of the jmp/nop instructions that we executed\n",
    "and try flipping them. If flipping them gets to\n",
    "an instruction that we haven't already executed\n",
    "then we consider it a possible solution.\n",
    "\n",
    "We take all possible solutions and try re-running\n",
    "the instructions to completion with the flipped\n",
    "instruction and, if it terminates, then we've\n",
    "found our solution."
   ]
  },
  {
   "cell_type": "code",
   "execution_count": 4,
   "metadata": {},
   "outputs": [],
   "source": [
    "possible = set()\n",
    "for inst_ptr, instruction in enumerate(instructions):\n",
    "    if not results.executed[inst_ptr]:\n",
    "        continue\n",
    "\n",
    "    inst, count = instruction.split()\n",
    "    count = int(count)\n",
    "\n",
    "    if inst == \"jmp\":\n",
    "        if not results.executed[inst_ptr+1]:\n",
    "            possible.add(inst_ptr)\n",
    "    if inst == \"nop\":\n",
    "        if not results.executed[inst_ptr+count]:\n",
    "            possible.add(inst_ptr)"
   ]
  },
  {
   "cell_type": "code",
   "execution_count": 5,
   "metadata": {},
   "outputs": [
    {
     "name": "stdout",
     "output_type": "stream",
     "text": [
      "515\n"
     ]
    }
   ],
   "source": [
    "from copy import copy\n",
    "\n",
    "def flip_instruction(instruction: str) -> str:\n",
    "    \"\"\"Flip jmp to nop or vice versa\"\"\"\n",
    "    inst, count = instruction.split()\n",
    "    flipped_inst = \"jmp\" if inst == \"nop\" else \"nop\"\n",
    "    return f\"{flipped_inst} {count}\"\n",
    "\n",
    "for inst_ptr in possible:\n",
    "    inst = instructions[inst_ptr]\n",
    "\n",
    "    instructions_copy = copy(instructions)\n",
    "    instructions_copy[inst_ptr] = flip_instruction(inst)\n",
    "\n",
    "    results = run_instructions(instructions_copy)\n",
    "    if results.terminated:\n",
    "        print(results.accumulator)\n",
    "        break"
   ]
  }
 ],
 "metadata": {
  "kernelspec": {
   "display_name": "Python 3.7.5 64-bit ('math': conda)",
   "language": "python",
   "name": "python37564bitmathconda3c1422069eaf4c3f9b49eaa87ff9aec1"
  },
  "language_info": {
   "codemirror_mode": {
    "name": "ipython",
    "version": 3
   },
   "file_extension": ".py",
   "mimetype": "text/x-python",
   "name": "python",
   "nbconvert_exporter": "python",
   "pygments_lexer": "ipython3",
   "version": "3.7.7"
  }
 },
 "nbformat": 4,
 "nbformat_minor": 4
}

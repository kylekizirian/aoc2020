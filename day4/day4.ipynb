{
 "cells": [
  {
   "cell_type": "code",
   "execution_count": 1,
   "metadata": {},
   "outputs": [],
   "source": [
    "import re\n",
    "from typing import Callable, Dict, List\n",
    "\n",
    "with open(\"input.txt\") as f:\n",
    "    lines = [line.strip() for line in f.readlines()]"
   ]
  },
  {
   "cell_type": "code",
   "execution_count": 2,
   "metadata": {},
   "outputs": [],
   "source": [
    "# Store individual passports as a dictionary\n",
    "# mapping fields to values. I.e.\n",
    "# {\"ecl\": \"gry\", \"eyr\": \"2020\"}\n",
    "\n",
    "all_passports: List[Dict[str, str]] = []\n",
    "passport: Dict[str, str] = {}\n",
    "\n",
    "for line in lines:\n",
    "    if not line:\n",
    "        all_passports.append(passport)\n",
    "        passport = {}\n",
    "    else:\n",
    "        for pair in line.split(\" \"):\n",
    "            key, val = pair.split(\":\")\n",
    "            passport[key] = val\n",
    "\n",
    "all_passports.append(passport)"
   ]
  },
  {
   "cell_type": "code",
   "execution_count": 3,
   "metadata": {},
   "outputs": [],
   "source": [
    "def num_valid(\n",
    "    passports: List[Dict[str, str]], policy: Callable\n",
    ") -> int:\n",
    "    \"\"\"Take a policy and return the # of valid passports\"\"\"\n",
    "    return sum(\n",
    "        policy(passport) for passport in passports\n",
    "    )"
   ]
  },
  {
   "cell_type": "markdown",
   "metadata": {},
   "source": [
    "## part 1"
   ]
  },
  {
   "cell_type": "code",
   "execution_count": 4,
   "metadata": {},
   "outputs": [
    {
     "data": {
      "text/plain": [
       "247"
      ]
     },
     "execution_count": 4,
     "metadata": {},
     "output_type": "execute_result"
    }
   ],
   "source": [
    "def policy(passport):\n",
    "    required_fields = set(\n",
    "        [\"byr\", \"iyr\", \"eyr\", \"hgt\", \"hcl\", \"ecl\", \"pid\"]\n",
    "    )\n",
    "    return required_fields.issubset(passport)\n",
    "\n",
    "num_valid(all_passports, policy)"
   ]
  },
  {
   "cell_type": "markdown",
   "metadata": {},
   "source": [
    "## part 2"
   ]
  },
  {
   "cell_type": "code",
   "execution_count": 5,
   "metadata": {},
   "outputs": [],
   "source": [
    "def byr_valid(passport):\n",
    "    if \"byr\" not in passport:\n",
    "        return False\n",
    "\n",
    "    byr = int(passport[\"byr\"])\n",
    "    return 1920 <= byr <= 2002\n",
    "\n",
    "def iyr_valid(passport):\n",
    "    if \"iyr\" not in passport:\n",
    "        return False\n",
    "\n",
    "    iyr = int(passport[\"iyr\"])\n",
    "    return 2010 <= iyr <= 2020\n",
    "\n",
    "def eyr_valid(passport):\n",
    "    if \"eyr\" not in passport:\n",
    "        return False\n",
    "\n",
    "    iyr = int(passport[\"eyr\"])\n",
    "    return 2020 <= iyr <= 2030\n",
    "\n",
    "def hgt_valid(passport):\n",
    "    if \"hgt\" not in passport:\n",
    "        return False\n",
    "\n",
    "    hgt = passport[\"hgt\"]\n",
    "    match = re.fullmatch(\"(\\d+)(cm|in)\", hgt)\n",
    "    if not match:\n",
    "        return False\n",
    "\n",
    "    hgt, unit = int(match.group(1)), match.group(2)\n",
    "\n",
    "    if unit == \"cm\":\n",
    "        return 150 <= hgt <= 193\n",
    "    else:\n",
    "        return 59 <= hgt <= 76\n",
    "\n",
    "def hcl_valid(passport):\n",
    "    if \"hcl\" not in passport:\n",
    "        return False\n",
    "\n",
    "    hcl = passport[\"hcl\"]\n",
    "    return bool(re.fullmatch(\"#[0-9a-f]{6}\", hcl))\n",
    "\n",
    "def ecl_valid(passport):\n",
    "    if \"ecl\" not in passport:\n",
    "        return False\n",
    "\n",
    "    ecl = passport[\"ecl\"]\n",
    "    valid_ecl = set([\"amb\", \"blu\", \"brn\", \"gry\", \"grn\", \"hzl\", \"oth\"])\n",
    "    return ecl in valid_ecl\n",
    "\n",
    "def pid_valid(passport):\n",
    "    if \"pid\" not in passport:\n",
    "        return False\n",
    "\n",
    "    pid = passport[\"pid\"]\n",
    "    return bool(re.fullmatch(\"\\d{9}\", pid))\n",
    "\n",
    "def policy(passport):\n",
    "    return all(\n",
    "        [\n",
    "            byr_valid(passport),\n",
    "            iyr_valid(passport),\n",
    "            eyr_valid(passport),\n",
    "            hgt_valid(passport),\n",
    "            hcl_valid(passport),\n",
    "            ecl_valid(passport),\n",
    "            pid_valid(passport),\n",
    "        ]\n",
    "    )"
   ]
  },
  {
   "cell_type": "code",
   "execution_count": 6,
   "metadata": {},
   "outputs": [
    {
     "data": {
      "text/plain": [
       "145"
      ]
     },
     "execution_count": 6,
     "metadata": {},
     "output_type": "execute_result"
    }
   ],
   "source": [
    "num_valid(all_passports, policy)"
   ]
  }
 ],
 "metadata": {
  "kernelspec": {
   "display_name": "Python 3.7.5 64-bit ('math': conda)",
   "language": "python",
   "name": "python37564bitmathconda3c1422069eaf4c3f9b49eaa87ff9aec1"
  },
  "language_info": {
   "codemirror_mode": {
    "name": "ipython",
    "version": 3
   },
   "file_extension": ".py",
   "mimetype": "text/x-python",
   "name": "python",
   "nbconvert_exporter": "python",
   "pygments_lexer": "ipython3",
   "version": "3.7.7"
  }
 },
 "nbformat": 4,
 "nbformat_minor": 4
}

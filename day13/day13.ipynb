{
 "cells": [
  {
   "cell_type": "code",
   "execution_count": 1,
   "metadata": {},
   "outputs": [],
   "source": [
    "with open(\"input.txt\") as f:\n",
    "    my_departure_time = int(f.readline())\n",
    "    bus_schedule = f.readline().strip()\n",
    "    bus_schedule = bus_schedule.split(\",\")"
   ]
  },
  {
   "cell_type": "code",
   "execution_count": 2,
   "metadata": {},
   "outputs": [
    {
     "data": {
      "text/plain": [
       "3966"
      ]
     },
     "execution_count": 2,
     "metadata": {},
     "output_type": "execute_result"
    }
   ],
   "source": [
    "bus_times = [\n",
    "    int(time) for time in bus_schedule if time.isnumeric()\n",
    "]\n",
    "\n",
    "earliest_departure = float(\"inf\")\n",
    "earliest_id = None\n",
    "\n",
    "for bus_id in bus_times:\n",
    "    departure_time = bus_id\n",
    "\n",
    "    while departure_time <= my_departure_time:\n",
    "        departure_time += bus_id\n",
    "\n",
    "    if departure_time < earliest_departure:\n",
    "        earliest_departure = departure_time\n",
    "        earliest_id = bus_id\n",
    "\n",
    "(earliest_departure - my_departure_time) * earliest_id"
   ]
  },
  {
   "cell_type": "markdown",
   "metadata": {},
   "source": [
    "## part2\n",
    "\n",
    "Looking for a time $t$ that satisfies\n",
    "\n",
    "$t + bus_{index} = 0 \\: (mod  \\: bus_{id})$\n",
    "\n",
    "For all buses. This can be rewritten as\n",
    "\n",
    "$t = - bus_{index} \\: (mod  \\: bus_{id})$\n",
    "\n"
   ]
  },
  {
   "cell_type": "code",
   "execution_count": 3,
   "metadata": {},
   "outputs": [],
   "source": [
    "from collections import namedtuple\n",
    "\n",
    "Bus = namedtuple(\"Bus\", [\"id\", \"index\"])\n",
    "\n",
    "buses = [\n",
    "    Bus(int(bus_id), index)\n",
    "    for index, bus_id in enumerate(bus_schedule)\n",
    "    if bus_id.isnumeric()\n",
    "]"
   ]
  },
  {
   "cell_type": "code",
   "execution_count": 4,
   "metadata": {},
   "outputs": [],
   "source": [
    "def multiplicative_inverse(a: int, N: int) -> int:\n",
    "\n",
    "    def extended_euclid(a: int, b: int) -> int:\n",
    "        if b == 0:\n",
    "            return (1, 0, a)\n",
    "\n",
    "        x, y, d = extended_euclid(b, a % b)\n",
    "        return y, x - int(a / b) * y, d\n",
    "\n",
    "    x, y, d = extended_euclid(N, a % N)\n",
    "\n",
    "    if d != 1:\n",
    "        raise ValueError(f\"{a} and {N} are not coprime.\")\n",
    "\n",
    "    return y % N"
   ]
  },
  {
   "cell_type": "code",
   "execution_count": 5,
   "metadata": {},
   "outputs": [],
   "source": [
    "from functools import reduce\n",
    "from operator import mul\n",
    "\n",
    "N = reduce(mul, (bus.id for bus in buses))\n",
    "\n",
    "a = [-bus.index % bus.id for bus in buses]\n",
    "y = [int(N / bus.id) for bus in buses]\n",
    "\n",
    "z = [\n",
    "    multiplicative_inverse(yi, bus.id)\n",
    "    for yi, bus in zip(y, buses)\n",
    "]"
   ]
  },
  {
   "cell_type": "code",
   "execution_count": 6,
   "metadata": {},
   "outputs": [
    {
     "data": {
      "text/plain": [
       "800177252346225"
      ]
     },
     "execution_count": 6,
     "metadata": {},
     "output_type": "execute_result"
    }
   ],
   "source": [
    "sum(\n",
    "    ai * yi * zi\n",
    "    for ai, yi, zi in zip(a, y, z)\n",
    ") % N"
   ]
  }
 ],
 "metadata": {
  "kernelspec": {
   "display_name": "Python 3.7.5 64-bit ('math': conda)",
   "language": "python",
   "name": "python37564bitmathconda3c1422069eaf4c3f9b49eaa87ff9aec1"
  },
  "language_info": {
   "codemirror_mode": {
    "name": "ipython",
    "version": 3
   },
   "file_extension": ".py",
   "mimetype": "text/x-python",
   "name": "python",
   "nbconvert_exporter": "python",
   "pygments_lexer": "ipython3",
   "version": "3.7.7"
  }
 },
 "nbformat": 4,
 "nbformat_minor": 4
}

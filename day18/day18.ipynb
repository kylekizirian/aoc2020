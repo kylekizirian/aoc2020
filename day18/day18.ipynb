{
 "cells": [
  {
   "cell_type": "code",
   "execution_count": 1,
   "metadata": {},
   "outputs": [],
   "source": [
    "with open(\"input.txt\") as f:\n",
    "    lines = [\n",
    "        line.strip() for line in f.readlines()\n",
    "    ]"
   ]
  },
  {
   "cell_type": "markdown",
   "metadata": {},
   "source": [
    "Start by tokenizing each line so that we have a list\n",
    "of single character tokens. I.e.\n",
    "\n",
    "```\n",
    "\"1 + (2 * 3)\"\n",
    "```\n",
    "\n",
    "Gets converted to\n",
    "\n",
    "```\n",
    "[\"1\", \"+\", \"(\", \"2\", \"*\", \"3\", \")\"]\n",
    "```"
   ]
  },
  {
   "cell_type": "code",
   "execution_count": 2,
   "metadata": {},
   "outputs": [],
   "source": [
    "import re\n",
    "from typing import Callable, List, Tuple\n",
    "\n",
    "Expression = List[str]\n",
    "\n",
    "def tokenize(expr: str) -> Expression:\n",
    "    \"\"\"Turns exression string into list of tokens\"\"\"\n",
    "    tokens_regex = \"[\\d*+\\(\\)]\"\n",
    "    return re.findall(tokens_regex, expr)\n",
    "\n",
    "expressions: List[Expression] = [\n",
    "    tokenize(line) for line in lines\n",
    "]"
   ]
  },
  {
   "cell_type": "markdown",
   "metadata": {},
   "source": [
    "Start with a recursive evaluator that we can use for\n",
    "part 1 and part 2. The recursive evaluator takes a\n",
    "tokenized expression and \"flat evaluator\" which evaluates\n",
    "an expression that does not contain any parentheses\n",
    "(this differs between part 1 and part 2).\n",
    "\n",
    "The recursive evaluator looks for parentheses in the\n",
    "expression. When it finds a set of parentheses, it\n",
    "recursively evaluates the expression inside of the\n",
    "parentheses and replaces the parentheses in the expression\n",
    "with the result. When there are no more parentheses in\n",
    "the expression, it calls the flat evaluator to evaluate\n",
    "the remainder of the expression."
   ]
  },
  {
   "cell_type": "code",
   "execution_count": 3,
   "metadata": {},
   "outputs": [],
   "source": [
    "from copy import copy\n",
    "\n",
    "def find_parens(\n",
    "    expr: Expression\n",
    ") -> Tuple[int, int]:\n",
    "    \"\"\"Returns a tuple with the indices of the first open\n",
    "    and closing parentheses in an expression. The open\n",
    "    parentheses index is the first open paren in the\n",
    "    expression. The closing paren index is the matching\n",
    "    closing paren for the opening paren (not necessarily\n",
    "    the first closing paren in the expression).\n",
    "    \"\"\"\n",
    "    open_index = expr.index(\"(\")\n",
    "    close_index = open_index\n",
    "    # After finding the first open parentheses,\n",
    "    # we need to find the matching closing parentheses.\n",
    "    # This isn't necessarily the next closing parentheses\n",
    "    # because there may be nested parentheses. So we\n",
    "    # look through the rest of the expression, incrementing\n",
    "    # a counter when we reach an open parentheses and\n",
    "    # decrementing it when we reach a closing parentheses.\n",
    "    # When the counter equals 0, we've found the matching\n",
    "    # closing parentheses.\n",
    "    paren_count = 1\n",
    "    while paren_count != 0:\n",
    "        close_index += 1\n",
    "        paren_count += expr[close_index] == \"(\"\n",
    "        paren_count -= expr[close_index] == \")\"\n",
    "\n",
    "    return open_index, close_index\n",
    "\n",
    "def evaluate(expr: Expression, flat_eval: Callable) -> int:\n",
    "    \"\"\"Takes an expression and a function that evaluates expressions\n",
    "    without parentheses and returns the result of the evaluation.\n",
    "    \"\"\"\n",
    "    expr = copy(expr)\n",
    "    while \"(\" in expr:\n",
    "        open_index, close_index = find_parens(expr)\n",
    "        paren_expr = expr[open_index+1:close_index]\n",
    "        paren_result = evaluate(paren_expr, flat_eval)\n",
    "        expr[open_index:close_index+1] = [paren_result]\n",
    "\n",
    "    # Once we no longer have parentheses in the expression, use the\n",
    "    # flat evaluator to evaluate the remaining expression.\n",
    "    return flat_eval(expr)"
   ]
  },
  {
   "cell_type": "markdown",
   "metadata": {},
   "source": [
    "## part1"
   ]
  },
  {
   "cell_type": "code",
   "execution_count": 4,
   "metadata": {},
   "outputs": [
    {
     "data": {
      "text/plain": [
       "3885386961962"
      ]
     },
     "execution_count": 4,
     "metadata": {},
     "output_type": "execute_result"
    }
   ],
   "source": [
    "from collections import deque\n",
    "\n",
    "def left_to_right_eval(expr: Expression) -> int:\n",
    "    \"\"\"Takes an expression which doesn't contain\n",
    "    parentheses and evaluates it from left-to-right.\n",
    "    \"\"\"\n",
    "    expr = deque(expr)\n",
    "    # Use a stack-based approach where we pop 3\n",
    "    # elements off of the stack. The first and last\n",
    "    # elements are integers on either side of the\n",
    "    # operator. The middle element is either a '+'\n",
    "    # or '*'. Evaluate the expression formed by the\n",
    "    # 3 elements and push the result back onto the\n",
    "    # stack. When the stack length is 1, then the\n",
    "    # remaning element is the result of the expression.\n",
    "    while len(expr) > 1:\n",
    "        left = int(expr.popleft())\n",
    "        op = expr.popleft()\n",
    "        right = int(expr.popleft())\n",
    "        if op == \"+\":\n",
    "            expr.appendleft(left + right)\n",
    "        else:\n",
    "            expr.appendleft(left * right)\n",
    "\n",
    "    return expr[0]\n",
    "\n",
    "sum(\n",
    "    evaluate(expression, left_to_right_eval)\n",
    "    for expression in expressions\n",
    ")"
   ]
  },
  {
   "cell_type": "markdown",
   "metadata": {},
   "source": [
    "## part2"
   ]
  },
  {
   "cell_type": "code",
   "execution_count": 5,
   "metadata": {},
   "outputs": [
    {
     "data": {
      "text/plain": [
       "112899558798666"
      ]
     },
     "execution_count": 5,
     "metadata": {},
     "output_type": "execute_result"
    }
   ],
   "source": [
    "def add_precedence_eval(expr: Expression) -> int:\n",
    "    \"\"\"Takes a flat expression and evaluates it such that\n",
    "    addition has the highest precedence.\n",
    "    \"\"\"\n",
    "    while \"+\" in expr:\n",
    "        add_index = expr.index(\"+\")\n",
    "        left_index = add_index - 1\n",
    "        right_index = add_index + 1\n",
    "        left = int(expr[left_index])\n",
    "        right = int(expr[right_index])\n",
    "        expr[left_index:right_index+1] = [left + right]\n",
    "\n",
    "    return left_to_right_eval(expr)\n",
    "\n",
    "sum(\n",
    "    evaluate(expression, add_precedence_eval)\n",
    "    for expression in expressions\n",
    ")"
   ]
  }
 ],
 "metadata": {
  "kernelspec": {
   "display_name": "Python 3.7.5 64-bit ('math': conda)",
   "language": "python",
   "name": "python37564bitmathconda3c1422069eaf4c3f9b49eaa87ff9aec1"
  },
  "language_info": {
   "codemirror_mode": {
    "name": "ipython",
    "version": 3
   },
   "file_extension": ".py",
   "mimetype": "text/x-python",
   "name": "python",
   "nbconvert_exporter": "python",
   "pygments_lexer": "ipython3",
   "version": "3.7.7"
  }
 },
 "nbformat": 4,
 "nbformat_minor": 4
}

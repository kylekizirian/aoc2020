{
 "cells": [
  {
   "cell_type": "code",
   "execution_count": 1,
   "metadata": {},
   "outputs": [],
   "source": [
    "with open(\"input.txt\") as f:\n",
    "    lines = [\n",
    "        line.strip() for line in f.readlines()\n",
    "    ]"
   ]
  },
  {
   "cell_type": "code",
   "execution_count": 2,
   "metadata": {},
   "outputs": [],
   "source": [
    "import re\n",
    "from typing import List, Tuple\n",
    "\n",
    "Expression = List[str]\n",
    "\n",
    "def tokenize(expr: str) -> Expression:\n",
    "    \"\"\"Turns exression string into list of tokens\"\"\"\n",
    "    tokens_regex = \"[\\d*+\\(\\)]\"\n",
    "    return re.findall(tokens_regex, expr)\n",
    "\n",
    "expressions: List[Expression] = [\n",
    "    tokenize(line) for line in lines\n",
    "]"
   ]
  },
  {
   "cell_type": "code",
   "execution_count": 3,
   "metadata": {},
   "outputs": [],
   "source": [
    "from operator import add, mul\n",
    "\n",
    "op_map = {\"+\": add, \"*\": mul}\n",
    "\n",
    "def find_outer_parens(\n",
    "    expr: Expression\n",
    ") -> Tuple[int, int]:\n",
    "    \"\"\"Returns a tuple with the indices of the\n",
    "    outermost parentheses in an expression.\n",
    "    \"\"\"\n",
    "    open_index = expr.index(\"(\")\n",
    "    close_index = open_index\n",
    "    paren_count = 1\n",
    "    while paren_count != 0:\n",
    "        close_index += 1\n",
    "        paren_count += expr[close_index] == \"(\"\n",
    "        paren_count -= expr[close_index] == \")\"\n",
    "\n",
    "    return open_index, close_index"
   ]
  },
  {
   "cell_type": "markdown",
   "metadata": {},
   "source": [
    "## part1"
   ]
  },
  {
   "cell_type": "code",
   "execution_count": 4,
   "metadata": {},
   "outputs": [],
   "source": [
    "from copy import copy\n",
    "\n",
    "def evaluate(expr: Expression, flat_eval) -> int:\n",
    "    expr = copy(expr)\n",
    "    while \"(\" in expr:\n",
    "        open_index, close_index = find_outer_parens(expr)\n",
    "        paren_expr = expr[open_index+1:close_index]\n",
    "        paren_result = evaluate(paren_expr, flat_eval)\n",
    "        expr[open_index:close_index+1] = [paren_result]\n",
    "\n",
    "    return flat_eval(expr)"
   ]
  },
  {
   "cell_type": "code",
   "execution_count": 5,
   "metadata": {},
   "outputs": [],
   "source": [
    "from collections import deque\n",
    "\n",
    "def add_mul_eval(expr: Expression) -> int:\n",
    "    expr = deque(expr)\n",
    "\n",
    "    while len(expr) > 1:\n",
    "        left = int(expr.popleft())\n",
    "        op = expr.popleft()\n",
    "        right = int(expr.popleft())\n",
    "        expr.appendleft(op_map[op](left, right))\n",
    "\n",
    "    return expr[0]"
   ]
  },
  {
   "cell_type": "code",
   "execution_count": 6,
   "metadata": {},
   "outputs": [
    {
     "data": {
      "text/plain": [
       "3885386961962"
      ]
     },
     "execution_count": 6,
     "metadata": {},
     "output_type": "execute_result"
    }
   ],
   "source": [
    "sum(\n",
    "    evaluate(expression, add_mul_eval)\n",
    "    for expression in expressions\n",
    ")"
   ]
  },
  {
   "cell_type": "markdown",
   "metadata": {},
   "source": [
    "## part2"
   ]
  },
  {
   "cell_type": "code",
   "execution_count": null,
   "metadata": {},
   "outputs": [],
   "source": [
    "def add_precedence_eval(expr: Expression) -> int:\n",
    "\n",
    "    while \"+\" in expr:\n",
    "        add_index = expr.index(\"+\")\n",
    "        left_index = add_index - 1\n",
    "        right_index = add_index + 1\n",
    "        left = int(expr[left_index])\n",
    "        right = int(expr[right_index])\n",
    "        expr[left_index:right_index+1] = [left + right]\n",
    "\n",
    "    return add_mul_eval(expr)"
   ]
  },
  {
   "cell_type": "code",
   "execution_count": null,
   "metadata": {},
   "outputs": [],
   "source": [
    "sum(\n",
    "    evaluate(expression, add_precedence_eval)\n",
    "    for expression in expressions\n",
    ")"
   ]
  }
 ],
 "metadata": {
  "kernelspec": {
   "display_name": "Python 3.7.5 64-bit ('math': conda)",
   "language": "python",
   "name": "python37564bitmathconda3c1422069eaf4c3f9b49eaa87ff9aec1"
  },
  "language_info": {
   "codemirror_mode": {
    "name": "ipython",
    "version": 3
   },
   "file_extension": ".py",
   "mimetype": "text/x-python",
   "name": "python",
   "nbconvert_exporter": "python",
   "pygments_lexer": "ipython3",
   "version": "3.7.7"
  }
 },
 "nbformat": 4,
 "nbformat_minor": 4
}

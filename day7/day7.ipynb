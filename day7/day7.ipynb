{
 "cells": [
  {
   "cell_type": "code",
   "execution_count": 1,
   "metadata": {},
   "outputs": [],
   "source": [
    "from collections import defaultdict, namedtuple\n",
    "import re\n",
    "from typing import Dict, List\n",
    "\n",
    "with open(\"input.txt\") as f:\n",
    "    lines = [line.strip() for line in f.readlines()]"
   ]
  },
  {
   "cell_type": "code",
   "execution_count": 2,
   "metadata": {},
   "outputs": [],
   "source": [
    "NumberOfBags = namedtuple(\n",
    "    \"NumberOfBags\", [\"num\", \"color\"]\n",
    ")\n",
    "# map a color to a list of bags that it contains\n",
    "# i.e. this line\n",
    "# \"dark orange bags contain 2 shiny gold bags,\n",
    "# 9 faded blue bags.\"\n",
    "# becomes this in the dictionary\n",
    "# color_contains[\"dark orange\"] = [\n",
    "#   NumberOfBags(2, \"shiny gold\"),\n",
    "#   NumberOfBags(9, \"faded blue\")\n",
    "# ]\n",
    "color_contains: Dict[str, List] = defaultdict(list)"
   ]
  },
  {
   "cell_type": "code",
   "execution_count": 3,
   "metadata": {},
   "outputs": [],
   "source": [
    "# Use regular expressions to parse each bag rule.\n",
    "# The rule:\n",
    "# \"dark orange bags contain 2 shiny gold bags,\n",
    "# 9 faded blue bags.\"\n",
    "# will be matched by the first regular expression\n",
    "# which we will use to just extract \"dark orange\"\n",
    "# The second regular expression will extract the\n",
    "# inner bags number and colors with re.findall\n",
    "# which will return this list from the matching groups\n",
    "# [(\"2\", \"shiny gold\"), (\"9\", \"faded blue\")]\n",
    "# These will be put into NumberOfBags objects\n",
    "# to construct the dictionary example above\n",
    "color_regex = \"(\\w+ \\w+) bags contain\"\n",
    "num_and_color_regex = \"(\\d+) (\\w+ \\w+) bags?[,.]\"\n",
    "for line in lines:\n",
    "    match = re.match(color_regex, line)\n",
    "    outer_color = match.group(1)\n",
    "    for bag in re.findall(num_and_color_regex, line):\n",
    "        num, inner_color = int(bag[0]), bag[1]\n",
    "        color_contains[outer_color].append(\n",
    "            NumberOfBags(num, inner_color)\n",
    "        )"
   ]
  },
  {
   "cell_type": "markdown",
   "metadata": {},
   "source": [
    "## part 1\n",
    "\n",
    "The question is how many bags can eventually contain\n",
    "at least one shiny gold bag. We can model this as a\n",
    "graph problem where each node points to the bag colors\n",
    "that it can sit in. Then, we solve the question by\n",
    "finding all nodes (i.e. bag colors) that can be reached\n",
    "starting at \"shiny gold\".\n",
    "\n",
    "First, we construct the graph as a dictionary where\n",
    "each color maps to the other colors that it can reside\n",
    "in, kind of the reverse of the `color_contains`\n",
    "dictionary."
   ]
  },
  {
   "cell_type": "code",
   "execution_count": 4,
   "metadata": {},
   "outputs": [],
   "source": [
    "color_to_outer = defaultdict(list)\n",
    "\n",
    "for outer_color, inner_colors in color_contains.items():\n",
    "    for color in inner_colors:\n",
    "        color_to_outer[color.color].append(outer_color)"
   ]
  },
  {
   "cell_type": "code",
   "execution_count": 5,
   "metadata": {},
   "outputs": [
    {
     "data": {
      "text/plain": [
       "229"
      ]
     },
     "execution_count": 5,
     "metadata": {},
     "output_type": "execute_result"
    }
   ],
   "source": [
    "visited = set()\n",
    "to_visit = [\"shiny gold\"]\n",
    "\n",
    "while to_visit:\n",
    "    inner_color = to_visit.pop()\n",
    "    if inner_color in visited:\n",
    "        continue\n",
    "\n",
    "    visited.add(inner_color)\n",
    "\n",
    "    for outer_color in color_to_outer[inner_color]:\n",
    "        if outer_color not in visited:\n",
    "            to_visit.append(outer_color)\n",
    "\n",
    "# subtract 1 because \"shiny gold\" is in visited,\n",
    "# but we want to put it in at least one other\n",
    "# bag\n",
    "len(visited) - 1"
   ]
  },
  {
   "cell_type": "markdown",
   "metadata": {},
   "source": [
    "## part 2\n",
    "\n",
    "Part 2 asks how many bags must be in the shiny gold\n",
    "bag. We can do this recursively by looking at how\n",
    "many bags are required in each bag contained in a\n",
    "shiny gold bag and adding them all up. The base case\n",
    "is bags that don't contain any other bags."
   ]
  },
  {
   "cell_type": "code",
   "execution_count": 6,
   "metadata": {},
   "outputs": [
    {
     "data": {
      "text/plain": [
       "6683"
      ]
     },
     "execution_count": 6,
     "metadata": {},
     "output_type": "execute_result"
    }
   ],
   "source": [
    "def count_bags(color: str):\n",
    "    bag_count = 0\n",
    "    for inner_bag in color_contains[color]:\n",
    "        num = inner_bag.num\n",
    "        inner_color = inner_bag.color\n",
    "        bag_count += num * (1 + count_bags(inner_color))\n",
    "\n",
    "    return bag_count\n",
    "\n",
    "count_bags(\"shiny gold\")"
   ]
  }
 ],
 "metadata": {
  "kernelspec": {
   "display_name": "Python 3.7.5 64-bit ('math': conda)",
   "language": "python",
   "name": "python37564bitmathconda3c1422069eaf4c3f9b49eaa87ff9aec1"
  },
  "language_info": {
   "codemirror_mode": {
    "name": "ipython",
    "version": 3
   },
   "file_extension": ".py",
   "mimetype": "text/x-python",
   "name": "python",
   "nbconvert_exporter": "python",
   "pygments_lexer": "ipython3",
   "version": "3.7.7"
  }
 },
 "nbformat": 4,
 "nbformat_minor": 4
}

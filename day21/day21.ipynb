{
 "cells": [
  {
   "cell_type": "code",
   "execution_count": 1,
   "metadata": {},
   "outputs": [],
   "source": [
    "with open(\"input.txt\") as f:\n",
    "    lines = [\n",
    "        line.strip() for line in f.readlines()\n",
    "    ]"
   ]
  },
  {
   "cell_type": "code",
   "execution_count": 2,
   "metadata": {},
   "outputs": [],
   "source": [
    "from collections import Counter\n",
    "import re\n",
    "\n",
    "allergens_to_ingredients = {}\n",
    "all_ingredients = set()\n",
    "ingredient_ctr = Counter()\n",
    "\n",
    "for line in lines:\n",
    "    words = re.findall(\"\\w+\", line)\n",
    "    contains_loc = words.index(\"contains\")\n",
    "    ingredients = set(words[:contains_loc])\n",
    "    ingredient_ctr.update(words[:contains_loc])\n",
    "\n",
    "    all_ingredients.update(ingredients)\n",
    "    allergens = words[contains_loc+1:]\n",
    "\n",
    "    for allergen in allergens:\n",
    "        if allergen not in allergens_to_ingredients:\n",
    "            allergens_to_ingredients[allergen] = ingredients\n",
    "        else:\n",
    "            allergens_to_ingredients[allergen] = ingredients.intersection(allergens_to_ingredients[allergen])"
   ]
  },
  {
   "cell_type": "code",
   "execution_count": 3,
   "metadata": {},
   "outputs": [],
   "source": [
    "allergens_to_ingredients\n",
    "for ingredients in allergens_to_ingredients.values():\n",
    "    all_ingredients -= ingredients"
   ]
  },
  {
   "cell_type": "markdown",
   "metadata": {},
   "source": [
    "## part1"
   ]
  },
  {
   "cell_type": "code",
   "execution_count": 4,
   "metadata": {},
   "outputs": [
    {
     "data": {
      "text/plain": [
       "2724"
      ]
     },
     "execution_count": 4,
     "metadata": {},
     "output_type": "execute_result"
    }
   ],
   "source": [
    "sum(\n",
    "    ingredient_ctr[ingredient]\n",
    "    for ingredient in all_ingredients\n",
    ")"
   ]
  },
  {
   "cell_type": "markdown",
   "metadata": {},
   "source": [
    "## part2"
   ]
  },
  {
   "cell_type": "code",
   "execution_count": 5,
   "metadata": {},
   "outputs": [
    {
     "data": {
      "text/plain": [
       "'xlxknk,cskbmx,cjdmk,bmhn,jrmr,tzxcmr,fmgxh,fxzh'"
      ]
     },
     "execution_count": 5,
     "metadata": {},
     "output_type": "execute_result"
    }
   ],
   "source": [
    "def all_found(allergens_to_ingredients):\n",
    "    return all(\n",
    "        len(ingredients) == 1\n",
    "        for ingredients in allergens_to_ingredients.values()\n",
    "    )\n",
    "\n",
    "while not all_found(allergens_to_ingredients):\n",
    "    for allergen, ingredients in allergens_to_ingredients.items():\n",
    "        if len(ingredients) == 1:\n",
    "            allergens_to_ingredients = {\n",
    "                allergen_: ingredients_ - ingredients\n",
    "                for allergen_, ingredients_ in allergens_to_ingredients.items()\n",
    "                if allergen_ != allergen\n",
    "            }\n",
    "            allergens_to_ingredients[allergen] = ingredients\n",
    "\n",
    "sorted_allergens = sorted(allergens_to_ingredients.keys())\n",
    "\",\".join(\n",
    "    [\n",
    "        allergens_to_ingredients[allergen].pop()\n",
    "        for allergen in sorted_allergens\n",
    "    ]\n",
    ")"
   ]
  }
 ],
 "metadata": {
  "kernelspec": {
   "display_name": "Python 3.7.5 64-bit ('math': conda)",
   "language": "python",
   "name": "python37564bitmathconda3c1422069eaf4c3f9b49eaa87ff9aec1"
  },
  "language_info": {
   "codemirror_mode": {
    "name": "ipython",
    "version": 3
   },
   "file_extension": ".py",
   "mimetype": "text/x-python",
   "name": "python",
   "nbconvert_exporter": "python",
   "pygments_lexer": "ipython3",
   "version": "3.7.7"
  }
 },
 "nbformat": 4,
 "nbformat_minor": 4
}

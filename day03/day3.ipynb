{
 "cells": [
  {
   "cell_type": "code",
   "execution_count": 1,
   "metadata": {},
   "outputs": [],
   "source": [
    "with open(\"input.txt\") as f:\n",
    "    grid = [list(line.strip()) for line in f.readlines()]"
   ]
  },
  {
   "cell_type": "markdown",
   "metadata": {},
   "source": [
    "## part 1"
   ]
  },
  {
   "cell_type": "code",
   "execution_count": 2,
   "metadata": {},
   "outputs": [
    {
     "data": {
      "text/plain": [
       "181"
      ]
     },
     "execution_count": 2,
     "metadata": {},
     "output_type": "execute_result"
    }
   ],
   "source": [
    "from typing import List\n",
    "\n",
    "def traverse(\n",
    "    grid: List[List[int]], steps_right: int, steps_down: int\n",
    ") -> int:\n",
    "\n",
    "    num_trees, col = 0, 0\n",
    "    num_cols = len(grid[0])\n",
    "    \n",
    "    for row in range(steps_down, len(grid), steps_down):\n",
    "        col = (col + steps_right) % num_cols\n",
    "        num_trees += grid[row][col] == \"#\"\n",
    "    \n",
    "    return num_trees\n",
    "\n",
    "traverse(grid, 3, 1)"
   ]
  },
  {
   "cell_type": "markdown",
   "metadata": {},
   "source": [
    "## part 2"
   ]
  },
  {
   "cell_type": "code",
   "execution_count": 3,
   "metadata": {},
   "outputs": [
    {
     "data": {
      "text/plain": [
       "1260601650"
      ]
     },
     "execution_count": 3,
     "metadata": {},
     "output_type": "execute_result"
    }
   ],
   "source": [
    "from functools import reduce\n",
    "from operator import mul\n",
    "\n",
    "results = [\n",
    "    traverse(grid, 1, 1),\n",
    "    traverse(grid, 3, 1),\n",
    "    traverse(grid, 5, 1),\n",
    "    traverse(grid, 7, 1),\n",
    "    traverse(grid, 1, 2),\n",
    "]\n",
    "\n",
    "reduce(mul, results, 1)"
   ]
  }
 ],
 "metadata": {
  "kernelspec": {
   "display_name": "Python 3.7.5 64-bit ('math': conda)",
   "language": "python",
   "name": "python37564bitmathconda3c1422069eaf4c3f9b49eaa87ff9aec1"
  },
  "language_info": {
   "codemirror_mode": {
    "name": "ipython",
    "version": 3
   },
   "file_extension": ".py",
   "mimetype": "text/x-python",
   "name": "python",
   "nbconvert_exporter": "python",
   "pygments_lexer": "ipython3",
   "version": "3.7.7"
  }
 },
 "nbformat": 4,
 "nbformat_minor": 4
}

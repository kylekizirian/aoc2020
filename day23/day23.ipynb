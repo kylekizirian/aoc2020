{
 "cells": [
  {
   "cell_type": "code",
   "execution_count": 1,
   "metadata": {},
   "outputs": [],
   "source": [
    "from typing import List\n",
    "\n",
    "cups_str = \"712643589\"\n",
    "\n",
    "def get_cups_list() -> List[int]:\n",
    "    return list(map(int, list(cups_str)))"
   ]
  },
  {
   "cell_type": "markdown",
   "metadata": {},
   "source": [
    "The cup game requires doing two things efficiently:\n",
    "\n",
    "1. Remove and place cups in a new location (moving the 3 cups\n",
    "next to the current cup to after the destination cup)\n",
    "2. Efficiently look up the location of cups with a specific\n",
    "label (to find the destination cup)\n",
    "\n",
    "(1) can be done efficiently with a linked list and (2) can be\n",
    "done efficiently with a dictionary. The `CupCircle` class\n",
    "stores both a pointer to the current cup and a dictionary\n",
    "that maps labels to their `CupNode` (linked list node).\n",
    "\n",
    "Each round of the game just has to update a few pointers in\n",
    "the linked list to move the 3 cups next to the current cup to\n",
    "be next to the destination cup. The destination cup is found\n",
    "quickly using the map from labels to nodes."
   ]
  },
  {
   "cell_type": "code",
   "execution_count": 2,
   "metadata": {},
   "outputs": [],
   "source": [
    "class CupNode:\n",
    "    \"\"\"Cups are stored as a circular linked list. Each cup\n",
    "    has has an integer value and a pointer to the next cup\n",
    "    clockwise.\n",
    "    \"\"\"\n",
    "    def __init__(self, val: int):\n",
    "        self.val = val\n",
    "        self.next = None\n",
    "\n",
    "class CupCircle:\n",
    "    \"\"\"Represents a current configuration of the cup circle.\n",
    "    The constructor takes in a list of values and creates a\n",
    "    circular linked list. The current cup is initialized to\n",
    "    the first cup in the list.\n",
    "    \"\"\"\n",
    "    def __init__(self, cup_vals: List[int]):\n",
    "        self._min_val = float(\"inf\")\n",
    "        self._max_val = float(\"-inf\")\n",
    "\n",
    "        self._cur_cup = CupNode(cup_vals[0])\n",
    "        prev = self._cur_cup\n",
    "\n",
    "        self._cup_map = {\n",
    "            cup_vals[0]: self._cur_cup\n",
    "        }\n",
    "\n",
    "        for cup_val in cup_vals[1:]:\n",
    "            self._min_val = min(self._min_val, cup_val)\n",
    "            self._max_val = max(self._max_val, cup_val)\n",
    "            prev.next = CupNode(cup_val)\n",
    "            prev = prev.next\n",
    "            self._cup_map[cup_val] = prev\n",
    "\n",
    "        prev.next = self._cur_cup\n",
    "\n",
    "    def get_cup(self, cup_val: int) -> CupNode:\n",
    "        \"\"\"Given a cups label, return corresponding CupNode\"\"\"\n",
    "        return self._cup_map[cup_val]\n",
    "\n",
    "    def _remove_3_cups(self) -> List[CupNode]:\n",
    "        \"\"\"Removes 3 cups next to current cup and returns a\n",
    "        list with the removed cups.\n",
    "        \"\"\"\n",
    "        removed_cups = [\n",
    "            self._cur_cup.next,\n",
    "            self._cur_cup.next.next,\n",
    "            self._cur_cup.next.next.next,\n",
    "        ]\n",
    "        self._cur_cup.next = self._cur_cup.next.next.next.next\n",
    "        return removed_cups\n",
    "\n",
    "    def _get_destination_cup(self, removed_cups: List[CupNode]) -> CupNode:\n",
    "        \"\"\"Gets the destination cup which is defined as the cup\n",
    "        with the largest label less than the current label and\n",
    "        not in the removed cups list. If there are no labels\n",
    "        less than the current label, then the destination cup\n",
    "        is the largest label.\n",
    "        \"\"\"\n",
    "        removed_vals = set(cup.val for cup in removed_cups)\n",
    "        dest_val = self._cur_cup.val - 1\n",
    "\n",
    "        while True:\n",
    "            if dest_val >= self._min_val and dest_val not in removed_vals:\n",
    "                return self.get_cup(dest_val)\n",
    "            elif dest_val < self._min_val:\n",
    "                dest_val = self._max_val\n",
    "            else:\n",
    "                dest_val -= 1\n",
    "\n",
    "    def _place_after_dest_cup(self, dest_cup: CupNode, removed_cups: List[CupNode]):\n",
    "        \"\"\"Places the removed cups after the destination cup.\"\"\"\n",
    "        for removed_cup in reversed(removed_cups):\n",
    "            removed_cup.next = dest_cup.next\n",
    "            dest_cup.next = removed_cup\n",
    "\n",
    "    def simulate_round(self):\n",
    "        \"\"\"Simulates a round with the following steps\n",
    "        \n",
    "        1. Remove the 3 cups next to the current cup\n",
    "        2. Find the destination cup (either the largest\n",
    "        labeled cup less than the current cup's label, or\n",
    "        the cup with the largest label)\n",
    "        3. Place the removed cups next to the destination\n",
    "        cup\n",
    "        4. Update the current cup to be the one next to the\n",
    "        current cup\n",
    "        \"\"\"\n",
    "        removed_cups = self._remove_3_cups()\n",
    "        dest_cup = self._get_destination_cup(removed_cups)\n",
    "        self._place_after_dest_cup(dest_cup, removed_cups)\n",
    "        self._cur_cup = self._cur_cup.next\n",
    "\n",
    "    def simulate(self, num_rounds: int):\n",
    "        \"\"\"Simulate the game for given number of rounds.\"\"\"\n",
    "        for _ in range(num_rounds):\n",
    "            self.simulate_round()"
   ]
  },
  {
   "cell_type": "markdown",
   "metadata": {},
   "source": [
    "## part1\n",
    "\n",
    "Simulate the game for 100 rounds and then find the order of\n",
    "the cups clockwise from cup the with the label 1."
   ]
  },
  {
   "cell_type": "code",
   "execution_count": 3,
   "metadata": {},
   "outputs": [
    {
     "data": {
      "text/plain": [
       "'29385746'"
      ]
     },
     "execution_count": 3,
     "metadata": {},
     "output_type": "execute_result"
    }
   ],
   "source": [
    "cups = get_cups_list()\n",
    "cup_circle = CupCircle(cups)\n",
    "cup_circle.simulate(num_rounds=100)\n",
    "\n",
    "one_cup = cup_circle.get_cup(1)\n",
    "runner = one_cup.next\n",
    "cup_labels = \"\"\n",
    "\n",
    "while runner is not one_cup:\n",
    "    cup_labels += str(runner.val)\n",
    "    runner = runner.next\n",
    "\n",
    "cup_labels"
   ]
  },
  {
   "cell_type": "markdown",
   "metadata": {},
   "source": [
    "## part2\n",
    "\n",
    "Add cups up to the label one million clockwise in the circle\n",
    "from the initial cup arrangement. Then simulate the game for\n",
    "10 million rounds and get the product of the two cups that are\n",
    "next to the cup with the label 1."
   ]
  },
  {
   "cell_type": "code",
   "execution_count": 4,
   "metadata": {},
   "outputs": [
    {
     "data": {
      "text/plain": [
       "680435423892"
      ]
     },
     "execution_count": 4,
     "metadata": {},
     "output_type": "execute_result"
    }
   ],
   "source": [
    "cups = get_cups_list()\n",
    "cups.extend(\n",
    "    [label for label in range(max(cups)+1, 1_000_001)]\n",
    ")\n",
    "cup_circle = CupCircle(cups)\n",
    "cup_circle.simulate(num_rounds=10_000_000)\n",
    "\n",
    "one_cup = cup_circle.get_cup(1)\n",
    "\n",
    "one_cup.next.val * one_cup.next.next.val"
   ]
  }
 ],
 "metadata": {
  "kernelspec": {
   "display_name": "Python 3.7.5 64-bit ('math': conda)",
   "language": "python",
   "name": "python37564bitmathconda3c1422069eaf4c3f9b49eaa87ff9aec1"
  },
  "language_info": {
   "codemirror_mode": {
    "name": "ipython",
    "version": 3
   },
   "file_extension": ".py",
   "mimetype": "text/x-python",
   "name": "python",
   "nbconvert_exporter": "python",
   "pygments_lexer": "ipython3",
   "version": "3.7.7"
  }
 },
 "nbformat": 4,
 "nbformat_minor": 4
}

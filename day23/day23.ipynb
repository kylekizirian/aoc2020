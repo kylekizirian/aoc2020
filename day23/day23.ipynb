{
 "cells": [
  {
   "cell_type": "code",
   "execution_count": 1,
   "metadata": {},
   "outputs": [],
   "source": [
    "cups = \"712643589\"\n",
    "cups = list(map(int, list(cups)))"
   ]
  },
  {
   "cell_type": "code",
   "execution_count": 2,
   "metadata": {},
   "outputs": [],
   "source": [
    "def find_destination_cup(cur_cup, cups):\n",
    "    min_cup = min(cups)\n",
    "    if cur_cup == min_cup:\n",
    "        return max(cups)\n",
    "    else:\n",
    "        return max([cup for cup in cups if cup < cur_cup])"
   ]
  },
  {
   "cell_type": "code",
   "execution_count": 3,
   "metadata": {},
   "outputs": [
    {
     "data": {
      "text/plain": [
       "'29385746'"
      ]
     },
     "execution_count": 3,
     "metadata": {},
     "output_type": "execute_result"
    }
   ],
   "source": [
    "cur_index = 0\n",
    "\n",
    "for _ in range(100):\n",
    "    cur_cup = cups[cur_index]\n",
    "    removed_cups = [\n",
    "        cups.pop((cups.index(cur_cup) + 1) % len(cups))\n",
    "        for _ in range(3)\n",
    "    ]\n",
    "    destination_cup = find_destination_cup(cur_cup, cups)\n",
    "    dest_index = cups.index(destination_cup)\n",
    "    for i in range(1, 4):\n",
    "        cups.insert(dest_index + i, removed_cups.pop(0))\n",
    "\n",
    "    cur_index = (cups.index(cur_cup) + 1) % len(cups)\n",
    "\n",
    "\n",
    "one_index = cups.index(1)\n",
    "\"\".join(\n",
    "    [\n",
    "        str(cups[(one_index + i) % len(cups)])\n",
    "        for i in range(1, len(cups))\n",
    "    ]\n",
    ")"
   ]
  },
  {
   "cell_type": "code",
   "execution_count": null,
   "metadata": {},
   "outputs": [],
   "source": []
  }
 ],
 "metadata": {
  "kernelspec": {
   "display_name": "Python 3.7.5 64-bit ('math': conda)",
   "language": "python",
   "name": "python37564bitmathconda3c1422069eaf4c3f9b49eaa87ff9aec1"
  },
  "language_info": {
   "codemirror_mode": {
    "name": "ipython",
    "version": 3
   },
   "file_extension": ".py",
   "mimetype": "text/x-python",
   "name": "python",
   "nbconvert_exporter": "python",
   "pygments_lexer": "ipython3",
   "version": "3.7.7"
  }
 },
 "nbformat": 4,
 "nbformat_minor": 4
}

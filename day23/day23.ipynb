{
 "cells": [
  {
   "cell_type": "code",
   "execution_count": 1,
   "metadata": {},
   "outputs": [],
   "source": [
    "from typing import List\n",
    "\n",
    "cups_str = \"712643589\"\n",
    "\n",
    "def get_cups_list() -> List[int]:\n",
    "    return list(map(int, list(cups_str)))"
   ]
  },
  {
   "cell_type": "code",
   "execution_count": 2,
   "metadata": {},
   "outputs": [],
   "source": [
    "class CupNode:\n",
    "    \"\"\"Cups are stored as a circular linked list. Each cup\n",
    "    has has an integer value and a pointer to the next cup\n",
    "    clockwise.\n",
    "    \"\"\"\n",
    "    def __init__(self, val: int):\n",
    "        self.val = val\n",
    "        self.next = None\n",
    "\n",
    "class CupCircle:\n",
    "    \"\"\"Represents a current configuration of the cup circle.\n",
    "    The constructor takes in a list of values and creates a\n",
    "    circular linked list. The current cup is initialized to\n",
    "    the first cup in the list.\n",
    "    \"\"\"\n",
    "    def __init__(self, cup_vals: List[int]):\n",
    "        self._min_val = float(\"inf\")\n",
    "        self._max_val = float(\"-inf\")\n",
    "\n",
    "        self._cur_cup = CupNode(cup_vals[0])\n",
    "        prev = self._cur_cup\n",
    "\n",
    "        self._cup_map = {\n",
    "            cup_vals[0]: self._cur_cup\n",
    "        }\n",
    "\n",
    "        for cup_val in cup_vals[1:]:\n",
    "            self._min_val = min(self._min_val, cup_val)\n",
    "            self._max_val = max(self._max_val, cup_val)\n",
    "            prev.next = CupNode(cup_val)\n",
    "            prev = prev.next\n",
    "            self._cup_map[cup_val] = prev\n",
    "\n",
    "        prev.next = self._cur_cup\n",
    "\n",
    "    def get_cup(self, cup_val: int) -> CupNode:\n",
    "        \"\"\"Given a cups label, return corresponding CupNode\"\"\"\n",
    "        return self._cup_map[cup_val]\n",
    "\n",
    "    def _remove_3_cups(self) -> List[CupNode]:\n",
    "        \"\"\"Removes 3 cups next to current cup and returns a\n",
    "        list with their values.\n",
    "        \"\"\"\n",
    "        removed_cups = [\n",
    "            self._cur_cup.next,\n",
    "            self._cur_cup.next.next,\n",
    "            self._cur_cup.next.next.next,\n",
    "        ]\n",
    "        self._cur_cup.next = self._cur_cup.next.next.next.next\n",
    "        return removed_cups\n",
    "\n",
    "    def _get_destination_cup(self, removed_cups: List[CupNode]) -> CupNode:\n",
    "        removed_vals = set(cup.val for cup in removed_cups)\n",
    "        dest_val = self._cur_cup.val - 1\n",
    "\n",
    "        while True:\n",
    "            if dest_val >= self._min_val and dest_val not in removed_vals:\n",
    "                return self.get_cup(dest_val)\n",
    "            elif dest_val < self._min_val:\n",
    "                dest_val = self._max_val\n",
    "            else:\n",
    "                dest_val -= 1\n",
    "\n",
    "    def _place_after_dest_cup(self, dest_cup: CupNode, removed_cups: List[CupNode]):\n",
    "        for removed_cup in reversed(removed_cups):\n",
    "            removed_cup.next = dest_cup.next\n",
    "            dest_cup.next = removed_cup\n",
    "\n",
    "    def simulate_round(self):\n",
    "        removed_cups = self._remove_3_cups()\n",
    "        dest_cup = self._get_destination_cup(removed_cups)\n",
    "        self._place_after_dest_cup(dest_cup, removed_cups)\n",
    "        self._cur_cup = self._cur_cup.next\n",
    "\n",
    "    def simulate(self, num_rounds: int):\n",
    "        for _ in range(num_rounds):\n",
    "            self.simulate_round()"
   ]
  },
  {
   "cell_type": "markdown",
   "metadata": {},
   "source": [
    "## part1"
   ]
  },
  {
   "cell_type": "code",
   "execution_count": 3,
   "metadata": {},
   "outputs": [
    {
     "data": {
      "text/plain": [
       "'29385746'"
      ]
     },
     "execution_count": 3,
     "metadata": {},
     "output_type": "execute_result"
    }
   ],
   "source": [
    "cups = get_cups_list()\n",
    "cup_circle = CupCircle(cups)\n",
    "cup_circle.simulate(num_rounds=100)\n",
    "\n",
    "last_cup = cup_circle.get_cup(1)\n",
    "cup_labels = []\n",
    "for _ in cups_str[:-1]:\n",
    "    last_cup = last_cup.next\n",
    "    cup_labels.append(str(last_cup.val))\n",
    "\n",
    "\"\".join(cup_labels)"
   ]
  },
  {
   "cell_type": "markdown",
   "metadata": {},
   "source": [
    "## part2"
   ]
  },
  {
   "cell_type": "code",
   "execution_count": 4,
   "metadata": {},
   "outputs": [
    {
     "data": {
      "text/plain": [
       "680435423892"
      ]
     },
     "execution_count": 4,
     "metadata": {},
     "output_type": "execute_result"
    }
   ],
   "source": [
    "cups = get_cups_list()\n",
    "cups.extend(\n",
    "    [label for label in range(max(cups)+1, 1_000_001)]\n",
    ")\n",
    "cup_circle = CupCircle(cups)\n",
    "cup_circle.simulate(num_rounds=10_000_000)\n",
    "\n",
    "one_cup = cup_circle.get_cup(1)\n",
    "\n",
    "one_cup.next.val * one_cup.next.next.val"
   ]
  }
 ],
 "metadata": {
  "kernelspec": {
   "display_name": "Python 3.7.5 64-bit ('math': conda)",
   "language": "python",
   "name": "python37564bitmathconda3c1422069eaf4c3f9b49eaa87ff9aec1"
  },
  "language_info": {
   "codemirror_mode": {
    "name": "ipython",
    "version": 3
   },
   "file_extension": ".py",
   "mimetype": "text/x-python",
   "name": "python",
   "nbconvert_exporter": "python",
   "pygments_lexer": "ipython3",
   "version": "3.7.7"
  }
 },
 "nbformat": 4,
 "nbformat_minor": 4
}

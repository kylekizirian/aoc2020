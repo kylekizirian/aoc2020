{
 "cells": [
  {
   "cell_type": "code",
   "execution_count": 1,
   "metadata": {},
   "outputs": [],
   "source": [
    "cups_str = \"712643589\"\n",
    "\n",
    "def get_cups_list():\n",
    "    return list(map(int, list(cups_str)))\n",
    "\n",
    "cups = get_cups_list()"
   ]
  },
  {
   "cell_type": "markdown",
   "metadata": {},
   "source": [
    "## part 1"
   ]
  },
  {
   "cell_type": "code",
   "execution_count": 2,
   "metadata": {},
   "outputs": [],
   "source": [
    "def find_destination_cup(cur_cup, cups):\n",
    "    min_cup = min(cups)\n",
    "    if cur_cup == min_cup:\n",
    "        return max(cups)\n",
    "    else:\n",
    "        return max([cup for cup in cups if cup < cur_cup])"
   ]
  },
  {
   "cell_type": "code",
   "execution_count": 3,
   "metadata": {},
   "outputs": [
    {
     "data": {
      "text/plain": [
       "'29385746'"
      ]
     },
     "execution_count": 3,
     "metadata": {},
     "output_type": "execute_result"
    }
   ],
   "source": [
    "cups = get_cups_list()\n",
    "cur_index = 0\n",
    "\n",
    "for _ in range(100):\n",
    "    cur_cup = cups[cur_index]\n",
    "    removed_cups = [\n",
    "        cups.pop((cups.index(cur_cup) + 1) % len(cups))\n",
    "        for _ in range(3)\n",
    "    ]\n",
    "    destination_cup = find_destination_cup(cur_cup, cups)\n",
    "    dest_index = cups.index(destination_cup)\n",
    "    for i in range(1, 4):\n",
    "        cups.insert(dest_index + i, removed_cups.pop(0))\n",
    "\n",
    "    cur_index = (cups.index(cur_cup) + 1) % len(cups)\n",
    "\n",
    "\n",
    "one_index = cups.index(1)\n",
    "\"\".join(\n",
    "    [\n",
    "        str(cups[(one_index + i) % len(cups)])\n",
    "        for i in range(1, len(cups))\n",
    "    ]\n",
    ")"
   ]
  },
  {
   "cell_type": "markdown",
   "metadata": {},
   "source": [
    "## part 2\n",
    "\n",
    "Create a linked list to hold the circular cups."
   ]
  },
  {
   "cell_type": "code",
   "execution_count": 4,
   "metadata": {},
   "outputs": [],
   "source": [
    "class Node:\n",
    "    def __init__(self, val):\n",
    "        self.val = val\n",
    "        self.next = None"
   ]
  },
  {
   "cell_type": "code",
   "execution_count": 5,
   "metadata": {},
   "outputs": [],
   "source": [
    "cups = get_cups_list()\n",
    "\n",
    "MIN_VAL = min(cups)\n",
    "MAX_IN_CUPS = max(cups)\n",
    "ONE_MILLION = 1_000_000\n",
    "MAX_VAL = ONE_MILLION\n",
    "\n",
    "cup_dict = {}\n",
    "\n",
    "head = Node(cups[0])\n",
    "prev = head\n",
    "cup_dict[cups[0]] = head\n",
    "for cup in cups[1:]:\n",
    "    prev.next = Node(cup)\n",
    "    prev = prev.next\n",
    "    cup_dict[cup] = prev\n",
    "\n",
    "for i in range(ONE_MILLION - len(cups)):\n",
    "    val = MAX_IN_CUPS + i + 1\n",
    "    prev.next = Node(val)\n",
    "    prev = prev.next\n",
    "    cup_dict[val] = prev\n",
    "\n",
    "prev.next = head\n",
    "cur_cup = head"
   ]
  },
  {
   "cell_type": "code",
   "execution_count": 6,
   "metadata": {},
   "outputs": [
    {
     "data": {
      "text/plain": [
       "680435423892"
      ]
     },
     "execution_count": 6,
     "metadata": {},
     "output_type": "execute_result"
    }
   ],
   "source": [
    "for i in range(10_000_000):\n",
    "    removed_cups = [\n",
    "        cur_cup.next.val,\n",
    "        cur_cup.next.next.val,\n",
    "        cur_cup.next.next.next.val\n",
    "    ]\n",
    "    cur_cup.next = cur_cup.next.next.next.next\n",
    "    dest_cup_found = False\n",
    "    dest_val = cur_cup.val - 1\n",
    "    while not dest_cup_found:\n",
    "        if dest_val >= MIN_VAL and dest_val not in removed_cups:\n",
    "            dest_cup_found = True\n",
    "        elif dest_val < MIN_VAL:\n",
    "            dest_val = MAX_VAL\n",
    "        else:\n",
    "            dest_val -= 1\n",
    "\n",
    "    dest_cup = cup_dict[dest_val]\n",
    "    for cup_val in reversed(removed_cups):\n",
    "        cup = cup_dict[cup_val]\n",
    "        cup.next = dest_cup.next\n",
    "        dest_cup.next = cup\n",
    "\n",
    "    cur_cup = cur_cup.next\n",
    "\n",
    "\n",
    "cup_dict[1].next.val * cup_dict[1].next.next.val"
   ]
  }
 ],
 "metadata": {
  "kernelspec": {
   "display_name": "Python 3.7.5 64-bit ('math': conda)",
   "language": "python",
   "name": "python37564bitmathconda3c1422069eaf4c3f9b49eaa87ff9aec1"
  },
  "language_info": {
   "codemirror_mode": {
    "name": "ipython",
    "version": 3
   },
   "file_extension": ".py",
   "mimetype": "text/x-python",
   "name": "python",
   "nbconvert_exporter": "python",
   "pygments_lexer": "ipython3",
   "version": "3.7.7"
  }
 },
 "nbformat": 4,
 "nbformat_minor": 4
}

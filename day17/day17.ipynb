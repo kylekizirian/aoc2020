{
 "cells": [
  {
   "cell_type": "code",
   "execution_count": null,
   "metadata": {},
   "outputs": [],
   "source": [
    "with open(\"input.txt\") as f:\n",
    "    lines = [\n",
    "        list(line.strip()) for line in f.readlines()\n",
    "    ]"
   ]
  },
  {
   "cell_type": "code",
   "execution_count": 2,
   "metadata": {},
   "outputs": [],
   "source": [
    "from typing import List, Set, Tuple\n",
    "\n",
    "Grid = List[List[str]]\n",
    "XYZCell = Tuple[int, int, int]\n",
    "\n",
    "class ConwayCube:\n",
    "\n",
    "    def __init__(self, initial_state: Grid):\n",
    "        self._active: Set[XYZCell] = {\n",
    "            (x, y, 0)\n",
    "            for y, row in enumerate(initial_state)\n",
    "            for x, cell in enumerate(row)\n",
    "            if cell == \"#\"\n",
    "        }\n",
    "        self._min_x = 0\n",
    "        self._min_y = 0\n",
    "        self._min_z = 0\n",
    "        self._max_x = len(initial_state[0])\n",
    "        self._max_y = len(initial_state)\n",
    "        self._max_z = 0\n",
    "\n",
    "    def _neighbors(self, cell: XYZCell) -> List[XYZCell]:\n",
    "        \"\"\"Return 26 neighbors of 3d grid coordinate\"\"\"\n",
    "        x, y, z = cell\n",
    "        neighbor_cells = [\n",
    "            (x+x_step, y+y_step, z+z_step)\n",
    "            for x_step in (-1, 0, 1)\n",
    "            for y_step in (-1, 0, 1)\n",
    "            for z_step in (-1, 0, 1)\n",
    "            if (x_step, y_step, z_step) != (0, 0, 0)\n",
    "        ]\n",
    "        return neighbor_cells\n",
    "\n",
    "    def _is_active(self, cell: XYZCell) -> bool:\n",
    "        return cell in self._active\n",
    "\n",
    "    def _num_neighbors(self, cell: XYZCell) -> int:\n",
    "        return sum(\n",
    "            self._is_active(neighbor)\n",
    "            for neighbor in self._neighbors(cell)\n",
    "        )\n",
    "\n",
    "    def _round(self):\n",
    "        \"\"\"Run a round of the simulation and update state\"\"\"\n",
    "        new_active = set()\n",
    "        new_min_x = new_min_y = new_min_z = float(\"inf\")\n",
    "        new_max_x = new_max_y = new_max_z = float(\"-inf\")\n",
    "        for x in range(self._min_x-1, self._max_x+2):\n",
    "            for y in range(self._min_y-1, self._max_y+2):\n",
    "                for z in range(self._min_z-1, self._max_z+2):\n",
    "\n",
    "                    cell = (x, y, z)\n",
    "                    if self._is_active(cell):\n",
    "                        if self._num_neighbors(cell) in {2, 3}:\n",
    "                            new_active.add(cell)\n",
    "                    elif self._num_neighbors(cell) == 3:\n",
    "                        new_active.add(cell)\n",
    "\n",
    "                    if cell in new_active:\n",
    "                        if x < new_min_x:\n",
    "                            new_min_x = x\n",
    "                        if x > new_max_x:\n",
    "                            new_max_x = x\n",
    "                        if y < new_min_y:\n",
    "                            new_min_y = y\n",
    "                        if y > new_max_y:\n",
    "                            new_max_y = y\n",
    "                        if z < new_min_z:\n",
    "                            new_min_z = z\n",
    "                        if z > new_max_z:\n",
    "                            new_max_z = z\n",
    "\n",
    "        assert bool(new_active)\n",
    "\n",
    "        self._active = new_active\n",
    "        self._min_x = new_min_x\n",
    "        self._min_y = new_min_y\n",
    "        self._min_z = new_min_z\n",
    "        self._max_x = new_max_x\n",
    "        self._max_y = new_max_y\n",
    "        self._max_z = new_max_z\n",
    "\n",
    "    def num_active(self):\n",
    "        return len(self._active)\n",
    "\n",
    "    def simulate(self, num_rounds: int):\n",
    "        for _ in range(num_rounds):\n",
    "            self._round()\n",
    "\n",
    "        return self.num_active()"
   ]
  },
  {
   "cell_type": "code",
   "execution_count": 3,
   "metadata": {},
   "outputs": [
    {
     "data": {
      "text/plain": [
       "317"
      ]
     },
     "execution_count": 3,
     "metadata": {},
     "output_type": "execute_result"
    }
   ],
   "source": [
    "ConwayCube(lines).simulate(6)"
   ]
  }
 ],
 "metadata": {
  "kernelspec": {
   "display_name": "Python 3.7.5 64-bit ('math': conda)",
   "language": "python",
   "name": "python37564bitmathconda3c1422069eaf4c3f9b49eaa87ff9aec1"
  },
  "language_info": {
   "codemirror_mode": {
    "name": "ipython",
    "version": 3
   },
   "file_extension": ".py",
   "mimetype": "text/x-python",
   "name": "python",
   "nbconvert_exporter": "python",
   "pygments_lexer": "ipython3",
   "version": "3.7.7"
  }
 },
 "nbformat": 4,
 "nbformat_minor": 4
}

{
 "cells": [
  {
   "cell_type": "code",
   "execution_count": 1,
   "metadata": {},
   "outputs": [],
   "source": [
    "with open(\"input.txt\") as f:\n",
    "    lines = [\n",
    "        list(line.strip()) for line in f.readlines()\n",
    "    ]"
   ]
  },
  {
   "cell_type": "code",
   "execution_count": 2,
   "metadata": {},
   "outputs": [],
   "source": [
    "from itertools import product\n",
    "from typing import Generator, List, Set, Tuple\n",
    "\n",
    "Grid = List[List[str]]\n",
    "Cell = Tuple[int, ...]\n",
    "\n",
    "class ConwaySim:\n",
    "\n",
    "    def __init__(self, initial_state: Grid, dimensions: int):\n",
    "        self._active: Set[Cell] = {\n",
    "            (x, y,) + (0,) * (dimensions-2)\n",
    "            for y, row in enumerate(initial_state)\n",
    "            for x, cell in enumerate(row)\n",
    "            if cell == \"#\"\n",
    "        }\n",
    "        self._min_dimensions = (0,) * dimensions\n",
    "        max_x = len(initial_state[0])\n",
    "        max_y = len(initial_state)\n",
    "        self._max_dimensions = (max_x, max_y) + (0, ) * (dimensions-2)\n",
    "        self._num_dimensions = dimensions\n",
    "\n",
    "    def _neighbors(self, cell: Cell) -> Generator[Cell, None, None]:\n",
    "        \"\"\"Returns neighboring cells from a given cell\"\"\"\n",
    "        # Create a generator expression containing the ranges\n",
    "        # along each dimension for the neighboring cell.\n",
    "        # For example, if we want to find the neighbor of the\n",
    "        # cell (0, 0, 0) then we generate these ranges\n",
    "        # (range(-1, 2), range(-1, 2), range(-1, 2))\n",
    "        cell_ranges = (range(coord-1, coord+2) for coord in cell)\n",
    "        # Take all combinations of values across the ranges\n",
    "        # from each dimension except for the cell itself to\n",
    "        # get all neighboring cells.\n",
    "        return (\n",
    "            neighbor\n",
    "            for neighbor in product(*cell_ranges)\n",
    "            if neighbor != cell\n",
    "        )\n",
    "\n",
    "    def _is_active(self, cell: Cell) -> bool:\n",
    "        return cell in self._active\n",
    "\n",
    "    def _num_active_neighbors(self, cell: Cell) -> int:\n",
    "        return sum(\n",
    "            self._is_active(neighbor)\n",
    "            for neighbor in self._neighbors(cell)\n",
    "        )\n",
    "\n",
    "    def _round(self):\n",
    "        \"\"\"Run a round of the simulation and update state\"\"\"\n",
    "        new_active = set()\n",
    "        min_dimensions = (float(\"inf\"),) * self._num_dimensions\n",
    "        max_dimensions = (float(\"-inf\"),) * self._num_dimensions\n",
    "\n",
    "        cell_ranges = (\n",
    "            range(min_dim-1, max_dim+2)\n",
    "            for min_dim, max_dim in zip(self._min_dimensions, self._max_dimensions)\n",
    "        )\n",
    "\n",
    "        for cell in product(*cell_ranges):\n",
    "            if self._is_active(cell):\n",
    "                if self._num_active_neighbors(cell) in {2, 3}:\n",
    "                    new_active.add(cell)\n",
    "            elif self._num_active_neighbors(cell) == 3:\n",
    "                new_active.add(cell)\n",
    "\n",
    "            if cell in new_active:\n",
    "                min_dimensions = tuple(\n",
    "                    min(first, second)\n",
    "                    for first, second in zip(cell, min_dimensions)\n",
    "                )\n",
    "                max_dimensions = tuple(\n",
    "                    max(first, second)\n",
    "                    for first, second in zip(cell, max_dimensions)\n",
    "                )\n",
    "\n",
    "        self._active = new_active\n",
    "        self._min_dimensions = min_dimensions\n",
    "        self._max_dimensions = max_dimensions\n",
    "\n",
    "    def num_active(self):\n",
    "        return len(self._active)\n",
    "\n",
    "    def simulate(self, num_rounds: int):\n",
    "        for _ in range(num_rounds):\n",
    "            self._round()\n",
    "\n",
    "        return self.num_active()"
   ]
  },
  {
   "cell_type": "code",
   "execution_count": 3,
   "metadata": {},
   "outputs": [
    {
     "data": {
      "text/plain": [
       "317"
      ]
     },
     "execution_count": 3,
     "metadata": {},
     "output_type": "execute_result"
    }
   ],
   "source": [
    "ConwaySim(lines, dimensions=3).simulate(6)"
   ]
  },
  {
   "cell_type": "code",
   "execution_count": 4,
   "metadata": {},
   "outputs": [
    {
     "data": {
      "text/plain": [
       "1692"
      ]
     },
     "execution_count": 4,
     "metadata": {},
     "output_type": "execute_result"
    }
   ],
   "source": [
    "ConwaySim(lines, dimensions=4).simulate(6)"
   ]
  }
 ],
 "metadata": {
  "kernelspec": {
   "display_name": "Python 3.7.5 64-bit ('math': conda)",
   "language": "python",
   "name": "python37564bitmathconda3c1422069eaf4c3f9b49eaa87ff9aec1"
  },
  "language_info": {
   "codemirror_mode": {
    "name": "ipython",
    "version": 3
   },
   "file_extension": ".py",
   "mimetype": "text/x-python",
   "name": "python",
   "nbconvert_exporter": "python",
   "pygments_lexer": "ipython3",
   "version": "3.7.7"
  }
 },
 "nbformat": 4,
 "nbformat_minor": 4
}

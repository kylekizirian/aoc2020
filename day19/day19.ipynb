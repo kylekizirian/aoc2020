{
 "cells": [
  {
   "cell_type": "code",
   "execution_count": null,
   "metadata": {},
   "outputs": [],
   "source": [
    "with open(\"input.txt\") as f:\n",
    "    lines = [\n",
    "        line.strip() for line in f.readlines()\n",
    "    ]\n",
    "\n",
    "split = lines.index(\"\")\n",
    "rule_lines = lines[:split]\n",
    "messages = lines[split+1:]"
   ]
  },
  {
   "cell_type": "code",
   "execution_count": null,
   "metadata": {},
   "outputs": [],
   "source": [
    "import re\n",
    "\n",
    "def char_encode(num: int) -> str:\n",
    "    alphabet = \"abcdefghij\"\n",
    "    return \"\".join(\n",
    "        [alphabet[int(digit)] for digit in num.group(0)]\n",
    "    )\n",
    "\n",
    "encoded_rules = [\n",
    "    re.sub(\"\\d+\", char_encode, line)\n",
    "    for line in rule_lines\n",
    "]"
   ]
  },
  {
   "cell_type": "code",
   "execution_count": 3,
   "metadata": {},
   "outputs": [],
   "source": [
    "from lark import Lark\n",
    "from lark.exceptions import UnexpectedCharacters, UnexpectedEOF\n",
    "\n",
    "parser = Lark(\"\\n\".join(encoded_rules), start=\"a\")"
   ]
  },
  {
   "cell_type": "code",
   "execution_count": 4,
   "metadata": {},
   "outputs": [
    {
     "data": {
      "text/plain": [
       "136"
      ]
     },
     "execution_count": 4,
     "metadata": {},
     "output_type": "execute_result"
    }
   ],
   "source": [
    "def matches(parser: Lark, string: str) -> bool:\n",
    "    try:\n",
    "        parser.parse(string)\n",
    "        return True\n",
    "    except (UnexpectedCharacters, UnexpectedEOF) as _:\n",
    "        return False\n",
    "\n",
    "sum(\n",
    "    matches(parser, message)\n",
    "    for message in messages\n",
    ")"
   ]
  },
  {
   "cell_type": "code",
   "execution_count": 5,
   "metadata": {},
   "outputs": [],
   "source": [
    "rule_lines = lines[:split]\n",
    "\n",
    "rule_8_index = rule_lines.index(\"8: 42\")\n",
    "rule_11_index = rule_lines.index(\"11: 42 31\")\n",
    "\n",
    "rule_lines[rule_8_index] = \"8: 42 | 42 8\"\n",
    "rule_lines[rule_11_index] = \"11: 42 31 | 42 11 31\""
   ]
  },
  {
   "cell_type": "code",
   "execution_count": 6,
   "metadata": {},
   "outputs": [],
   "source": [
    "encoded_rules = [\n",
    "    re.sub(\"\\d+\", char_encode, line)\n",
    "    for line in rule_lines\n",
    "]\n",
    "\n",
    "parser = Lark(\"\\n\".join(encoded_rules), start=\"a\")"
   ]
  },
  {
   "cell_type": "code",
   "execution_count": 7,
   "metadata": {},
   "outputs": [
    {
     "data": {
      "text/plain": [
       "256"
      ]
     },
     "execution_count": 7,
     "metadata": {},
     "output_type": "execute_result"
    }
   ],
   "source": [
    "sum(\n",
    "    matches(parser, message)\n",
    "    for message in messages\n",
    ")"
   ]
  }
 ],
 "metadata": {
  "kernelspec": {
   "display_name": "Python 3.7.5 64-bit ('math': conda)",
   "language": "python",
   "name": "python37564bitmathconda3c1422069eaf4c3f9b49eaa87ff9aec1"
  },
  "language_info": {
   "codemirror_mode": {
    "name": "ipython",
    "version": 3
   },
   "file_extension": ".py",
   "mimetype": "text/x-python",
   "name": "python",
   "nbconvert_exporter": "python",
   "pygments_lexer": "ipython3",
   "version": "3.7.7"
  }
 },
 "nbformat": 4,
 "nbformat_minor": 4
}

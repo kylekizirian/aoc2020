{
 "cells": [
  {
   "cell_type": "code",
   "execution_count": 1,
   "metadata": {},
   "outputs": [],
   "source": [
    "from collections import deque\n",
    "\n",
    "with open(\"input.txt\") as f:\n",
    "    lines = [\n",
    "        line.strip()\n",
    "        for line in f.readlines()\n",
    "        if line.strip()\n",
    "    ]\n",
    "\n",
    "player2_index = lines.index(\"Player 2:\")\n",
    "player1_cards = deque(map(int, lines[1:player2_index]))\n",
    "player2_cards = deque(map(int, lines[player2_index+1:]))"
   ]
  },
  {
   "cell_type": "code",
   "execution_count": 2,
   "metadata": {},
   "outputs": [],
   "source": [
    "from copy import copy\n",
    "\n",
    "def play_game(player1_cards, player2_cards):\n",
    "\n",
    "    player1_cards = copy(player1_cards)\n",
    "    player2_cards = copy(player2_cards)\n",
    "\n",
    "    while player1_cards and player2_cards:\n",
    "        player1_card = player1_cards.popleft()\n",
    "        player2_card = player2_cards.popleft()\n",
    "\n",
    "        if player1_card > player2_card:\n",
    "            player1_cards.append(player1_card)\n",
    "            player1_cards.append(player2_card)\n",
    "        else:\n",
    "            player2_cards.append(player2_card)\n",
    "            player2_cards.append(player1_card)\n",
    "    \n",
    "    return player1_cards if player1_cards else player2_cards"
   ]
  },
  {
   "cell_type": "code",
   "execution_count": 3,
   "metadata": {},
   "outputs": [
    {
     "data": {
      "text/plain": [
       "33473"
      ]
     },
     "execution_count": 3,
     "metadata": {},
     "output_type": "execute_result"
    }
   ],
   "source": [
    "def score(cards) -> int:\n",
    "    return sum(\n",
    "        (index + 1) * card\n",
    "        for index, card in enumerate(reversed(cards))\n",
    "    )\n",
    "\n",
    "score(play_game(player1_cards, player2_cards))"
   ]
  }
 ],
 "metadata": {
  "kernelspec": {
   "display_name": "Python 3.7.5 64-bit ('math': conda)",
   "language": "python",
   "name": "python37564bitmathconda3c1422069eaf4c3f9b49eaa87ff9aec1"
  },
  "language_info": {
   "codemirror_mode": {
    "name": "ipython",
    "version": 3
   },
   "file_extension": ".py",
   "mimetype": "text/x-python",
   "name": "python",
   "nbconvert_exporter": "python",
   "pygments_lexer": "ipython3",
   "version": "3.7.7"
  }
 },
 "nbformat": 4,
 "nbformat_minor": 4
}

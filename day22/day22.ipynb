{
 "cells": [
  {
   "cell_type": "code",
   "execution_count": 1,
   "metadata": {},
   "outputs": [],
   "source": [
    "from collections import deque\n",
    "\n",
    "with open(\"input.txt\") as f:\n",
    "    lines = [\n",
    "        line.strip()\n",
    "        for line in f.readlines()\n",
    "        if line.strip()\n",
    "    ]\n",
    "\n",
    "p2_index = lines.index(\"Player 2:\")\n",
    "p1_cards = deque(map(int, lines[1:p2_index]))\n",
    "p2_cards = deque(map(int, lines[p2_index+1:]))"
   ]
  },
  {
   "cell_type": "markdown",
   "metadata": {},
   "source": [
    "## part1"
   ]
  },
  {
   "cell_type": "code",
   "execution_count": 2,
   "metadata": {},
   "outputs": [],
   "source": [
    "from copy import copy\n",
    "\n",
    "def play_game(p1_cards, p2_cards):\n",
    "\n",
    "    p1_cards = copy(p1_cards)\n",
    "    p2_cards = copy(p2_cards)\n",
    "\n",
    "    while p1_cards and p2_cards:\n",
    "        p1_card = p1_cards.popleft()\n",
    "        p2_card = p2_cards.popleft()\n",
    "\n",
    "        if p1_card > p2_card:\n",
    "            p1_cards.append(p1_card)\n",
    "            p1_cards.append(p2_card)\n",
    "        else:\n",
    "            p2_cards.append(p2_card)\n",
    "            p2_cards.append(p1_card)\n",
    "\n",
    "    return p1_cards if p1_cards else p2_cards"
   ]
  },
  {
   "cell_type": "code",
   "execution_count": 3,
   "metadata": {},
   "outputs": [
    {
     "data": {
      "text/plain": [
       "33473"
      ]
     },
     "execution_count": 3,
     "metadata": {},
     "output_type": "execute_result"
    }
   ],
   "source": [
    "def score(cards) -> int:\n",
    "    return sum(\n",
    "        (index + 1) * card\n",
    "        for index, card in enumerate(reversed(cards))\n",
    "    )\n",
    "\n",
    "score(play_game(p1_cards, p2_cards))"
   ]
  },
  {
   "cell_type": "markdown",
   "metadata": {},
   "source": [
    "## part2"
   ]
  },
  {
   "cell_type": "code",
   "execution_count": 4,
   "metadata": {},
   "outputs": [],
   "source": [
    "from itertools import islice\n",
    "\n",
    "def play_game(p1_cards, p2_cards):\n",
    "\n",
    "    p1_cards = copy(p1_cards)\n",
    "    p2_cards = copy(p2_cards)\n",
    "\n",
    "    p1_hands = set()\n",
    "    p2_hands = set()\n",
    "\n",
    "    while p1_cards and p2_cards:\n",
    "\n",
    "        p1_card = p1_cards.popleft()\n",
    "        p2_card = p2_cards.popleft()\n",
    "\n",
    "        if tuple(p1_cards) in p1_hands and tuple(p2_cards) in p2_hands:\n",
    "            return True, p1_cards\n",
    "    \n",
    "        p1_hands.add(tuple(p1_cards))\n",
    "        p2_hands.add(tuple(p2_cards))\n",
    "\n",
    "        if len(p1_cards) >= p1_card and len(p2_cards) >= p2_card:\n",
    "            p1_winner, _ = play_game(\n",
    "                deque(islice(p1_cards, 0, p1_card)),\n",
    "                deque(islice(p2_cards, 0, p2_card)),\n",
    "            )\n",
    "        elif p1_card > p2_card:\n",
    "            p1_winner = True\n",
    "        else:\n",
    "            p1_winner = False\n",
    "\n",
    "        if p1_winner:\n",
    "            p1_cards.append(p1_card)\n",
    "            p1_cards.append(p2_card)\n",
    "        else:\n",
    "            p2_cards.append(p2_card)\n",
    "            p2_cards.append(p1_card)\n",
    "\n",
    "    p1_winner = bool(p1_cards)\n",
    "    winning_cards = p1_cards if p1_winner else p2_cards\n",
    "    return p1_winner, winning_cards"
   ]
  },
  {
   "cell_type": "code",
   "execution_count": 5,
   "metadata": {},
   "outputs": [
    {
     "data": {
      "text/plain": [
       "31793"
      ]
     },
     "execution_count": 5,
     "metadata": {},
     "output_type": "execute_result"
    }
   ],
   "source": [
    "_, winning_cards = play_game(p1_cards, p2_cards)\n",
    "score(winning_cards)"
   ]
  }
 ],
 "metadata": {
  "kernelspec": {
   "display_name": "Python 3.7.5 64-bit ('math': conda)",
   "language": "python",
   "name": "python37564bitmathconda3c1422069eaf4c3f9b49eaa87ff9aec1"
  },
  "language_info": {
   "codemirror_mode": {
    "name": "ipython",
    "version": 3
   },
   "file_extension": ".py",
   "mimetype": "text/x-python",
   "name": "python",
   "nbconvert_exporter": "python",
   "pygments_lexer": "ipython3",
   "version": "3.7.7"
  }
 },
 "nbformat": 4,
 "nbformat_minor": 4
}

{
 "cells": [
  {
   "cell_type": "code",
   "execution_count": 1,
   "metadata": {},
   "outputs": [],
   "source": [
    "with open(\"input.txt\") as f:\n",
    "    lines = [\n",
    "        line.strip() for line in f.readlines()\n",
    "    ]"
   ]
  },
  {
   "cell_type": "code",
   "execution_count": 2,
   "metadata": {},
   "outputs": [],
   "source": [
    "from collections import namedtuple\n",
    "\n",
    "Mask = namedtuple(\"Mask\", [\"mask\"])\n",
    "MemStore = namedtuple(\"Store\", [\"addr\", \"val\"])"
   ]
  },
  {
   "cell_type": "code",
   "execution_count": 3,
   "metadata": {},
   "outputs": [],
   "source": [
    "import re\n",
    "\n",
    "mask_regex = \"mask = (?P<mask>[X01]+)\"\n",
    "mem_regex = \"mem\\[(?P<addr>\\d+)\\] = (?P<val>\\d+)\"\n",
    "\n",
    "instructions = []\n",
    "\n",
    "for line in lines:\n",
    "    if match := re.fullmatch(mask_regex, line):\n",
    "        mask = Mask(match.group(\"mask\"))\n",
    "        instructions.append(mask)\n",
    "    elif match := re.fullmatch(mem_regex, line):\n",
    "        addr = int(match.group(\"addr\"))\n",
    "        val = int(match.group(\"val\"))\n",
    "        mem_store = MemStore(addr, val)\n",
    "        instructions.append(mem_store)"
   ]
  },
  {
   "cell_type": "markdown",
   "metadata": {},
   "source": [
    "## part1"
   ]
  },
  {
   "cell_type": "code",
   "execution_count": 4,
   "metadata": {},
   "outputs": [],
   "source": [
    "def apply_mask(val: int, mask: str) -> int:\n",
    "    \"\"\"Applies mask rules from part1\n",
    "\n",
    "    Where the mask has a 0-bit, the val's bit is\n",
    "    set to 0. Where the mask has a 1-bit, the val's\n",
    "    bit is set to 1.\n",
    "    \"\"\"\n",
    "    # Create a mask for applying the 0-bits where\n",
    "    # the 0-bits from the original mask are left\n",
    "    # in place and all other bits (both 1s and Xs)\n",
    "    # are set to 1. Then do a bitwise AND with the\n",
    "    # val to set the 0-bits and leave other bits\n",
    "    # unchanged.\n",
    "    zero_mask = [\"0\" if bit == \"0\" else \"1\" for bit in mask]\n",
    "    zero_mask = \"\".join(zero_mask)\n",
    "    val &= int(zero_mask, base=2)\n",
    "\n",
    "    # Apply the 1-bits from the mask by creating a\n",
    "    # new mask where 1-bits are left in place and\n",
    "    # all other bits are set to 0. Then do a bitwise\n",
    "    # OR with the val to set the 1-bits and leave others\n",
    "    # unchanged.\n",
    "    one_mask = [\"1\" if bit == \"1\" else \"0\" for bit in mask]\n",
    "    one_mask = \"\".join(one_mask)\n",
    "    val |= int(one_mask, base=2)\n",
    "\n",
    "    return val"
   ]
  },
  {
   "cell_type": "code",
   "execution_count": 5,
   "metadata": {},
   "outputs": [
    {
     "data": {
      "text/plain": [
       "14553106347726"
      ]
     },
     "execution_count": 5,
     "metadata": {},
     "output_type": "execute_result"
    }
   ],
   "source": [
    "cur_mask = None\n",
    "memory = {}\n",
    "\n",
    "for instruction in instructions:\n",
    "    if isinstance(instruction, Mask):\n",
    "        cur_mask = instruction.mask\n",
    "    elif isinstance(instruction, MemStore):\n",
    "        addr = instruction.addr\n",
    "        val = instruction.val\n",
    "        memory[addr] = apply_mask(val, cur_mask)\n",
    "\n",
    "sum(val for val in memory.values())"
   ]
  },
  {
   "cell_type": "markdown",
   "metadata": {},
   "source": [
    "## part2"
   ]
  },
  {
   "cell_type": "code",
   "execution_count": 6,
   "metadata": {},
   "outputs": [],
   "source": [
    "from typing import List\n",
    "\n",
    "def address_decoder(addr: str, mask: str) -> List[int]:\n",
    "    \"\"\"Given a 36-bit binary address and a mask, apply\n",
    "    the rules from part 2 and return a list of all\n",
    "    possible addresses with each floating bit set to\n",
    "    a 0 and a 1.\n",
    "    \"\"\"\n",
    "    # Use a recursive process for getting all addresses.\n",
    "    # The recursive call gets a list of all addresses\n",
    "    # not including the left-most bit.\n",
    "    \n",
    "    if not addr:\n",
    "        return [\"\"]\n",
    "\n",
    "    sub_addresses = address_decoder(addr[1:], mask[1:])\n",
    "\n",
    "    if mask[0] == \"1\":\n",
    "        # If left-most bit of the mask is a 1, then prepend\n",
    "        # a 1 to all addresses from the recursive call.\n",
    "        return [\"1\" + subaddr for subaddr in sub_addresses]\n",
    "    elif mask[0] == \"0\":\n",
    "        # If left-most bit of the mask is a 0, then prepend\n",
    "        # the left-most bit of address to all addresses from\n",
    "        # the recursive call.\n",
    "        return [\n",
    "            addr[0] + subaddr for subaddr in sub_addresses\n",
    "        ]\n",
    "    else:\n",
    "        # If left-most of the mask is a 1, then prepend\n",
    "        # both 0s and 1s to all addresses returned from\n",
    "        # the recursive call.\n",
    "        leading_0 = [\"0\" + subaddr for subaddr in sub_addresses]\n",
    "        leading_1 = [\"1\" + subaddr for subaddr in sub_addresses]\n",
    "        return leading_0 + leading_1"
   ]
  },
  {
   "cell_type": "code",
   "execution_count": 7,
   "metadata": {},
   "outputs": [],
   "source": [
    "def to_36_bit_string(val: int) -> str:\n",
    "    \"\"\"Given an unsigned int, return 36-bit binary string.\"\"\"\n",
    "    return bin(val)[2:].zfill(36)"
   ]
  },
  {
   "cell_type": "code",
   "execution_count": 8,
   "metadata": {},
   "outputs": [
    {
     "data": {
      "text/plain": [
       "2737766154126"
      ]
     },
     "execution_count": 8,
     "metadata": {},
     "output_type": "execute_result"
    }
   ],
   "source": [
    "cur_mask = None\n",
    "memory = {}\n",
    "\n",
    "for instruction in instructions:\n",
    "    if isinstance(instruction, Mask):\n",
    "        cur_mask = instruction.mask\n",
    "    elif isinstance(instruction, MemStore):\n",
    "        addr = instruction.addr\n",
    "        binary_addr = to_36_bit_string(addr)\n",
    "        val = instruction.val\n",
    "        for mem_addr in address_decoder(binary_addr, cur_mask):\n",
    "            memory[mem_addr] = val\n",
    "\n",
    "sum(val for val in memory.values())"
   ]
  }
 ],
 "metadata": {
  "kernelspec": {
   "display_name": "Python 3.8",
   "language": "python",
   "name": "python38"
  },
  "language_info": {
   "codemirror_mode": {
    "name": "ipython",
    "version": 3
   },
   "file_extension": ".py",
   "mimetype": "text/x-python",
   "name": "python",
   "nbconvert_exporter": "python",
   "pygments_lexer": "ipython3",
   "version": "3.8.5"
  }
 },
 "nbformat": 4,
 "nbformat_minor": 4
}
